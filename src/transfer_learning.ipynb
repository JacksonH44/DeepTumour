{
 "cells": [
  {
   "cell_type": "code",
   "execution_count": 1,
   "metadata": {},
   "outputs": [
    {
     "name": "stdout",
     "output_type": "stream",
     "text": [
      "Looking in links: /cvmfs/soft.computecanada.ca/custom/python/wheelhouse/gentoo/avx2, /cvmfs/soft.computecanada.ca/custom/python/wheelhouse/gentoo/generic, /cvmfs/soft.computecanada.ca/custom/python/wheelhouse/generic\n",
      "Requirement already satisfied: typing-extensions in /project/6069023/jhowe4/TissueTango/test/.venv/lib/python3.10/site-packages (4.7.0)\n",
      "Note: you may need to restart the kernel to use updated packages.\n",
      "Looking in links: /cvmfs/soft.computecanada.ca/custom/python/wheelhouse/gentoo/avx2, /cvmfs/soft.computecanada.ca/custom/python/wheelhouse/gentoo/generic, /cvmfs/soft.computecanada.ca/custom/python/wheelhouse/generic\n",
      "Requirement already satisfied: requests in /project/6069023/jhowe4/TissueTango/test/.venv/lib/python3.10/site-packages (2.31.0)\n",
      "Requirement already satisfied: charset-normalizer<4,>=2 in /project/6069023/jhowe4/TissueTango/test/.venv/lib/python3.10/site-packages (from requests) (3.1.0+computecanada)\n",
      "Requirement already satisfied: idna<4,>=2.5 in /project/6069023/jhowe4/TissueTango/test/.venv/lib/python3.10/site-packages (from requests) (3.4+computecanada)\n",
      "Requirement already satisfied: urllib3<3,>=1.21.1 in /project/6069023/jhowe4/TissueTango/test/.venv/lib/python3.10/site-packages (from requests) (1.26.16)\n",
      "Requirement already satisfied: certifi>=2017.4.17 in /project/6069023/jhowe4/TissueTango/test/.venv/lib/python3.10/site-packages (from requests) (2023.5.7)\n",
      "Note: you may need to restart the kernel to use updated packages.\n",
      "Looking in links: /cvmfs/soft.computecanada.ca/custom/python/wheelhouse/gentoo/avx2, /cvmfs/soft.computecanada.ca/custom/python/wheelhouse/gentoo/generic, /cvmfs/soft.computecanada.ca/custom/python/wheelhouse/generic\n",
      "Requirement already satisfied: pandas in /project/6069023/jhowe4/TissueTango/test/.venv/lib/python3.10/site-packages (2.0.0+computecanada)\n",
      "Requirement already satisfied: python-dateutil>=2.8.2 in /project/6069023/jhowe4/TissueTango/test/.venv/lib/python3.10/site-packages (from pandas) (2.8.2+computecanada)\n",
      "Requirement already satisfied: pytz>=2020.1 in /project/6069023/jhowe4/TissueTango/test/.venv/lib/python3.10/site-packages (from pandas) (2023.3+computecanada)\n",
      "Requirement already satisfied: tzdata>=2022.1 in /project/6069023/jhowe4/TissueTango/test/.venv/lib/python3.10/site-packages (from pandas) (2023.3+computecanada)\n",
      "Requirement already satisfied: numpy>=1.21 in /project/6069023/jhowe4/TissueTango/test/.venv/lib/python3.10/site-packages (from pandas) (1.23.2+computecanada)\n",
      "Requirement already satisfied: six>=1.5 in /project/6069023/jhowe4/TissueTango/test/.venv/lib/python3.10/site-packages (from python-dateutil>=2.8.2->pandas) (1.16.0+computecanada)\n",
      "Note: you may need to restart the kernel to use updated packages.\n",
      "Looking in links: /cvmfs/soft.computecanada.ca/custom/python/wheelhouse/gentoo/avx2, /cvmfs/soft.computecanada.ca/custom/python/wheelhouse/gentoo/generic, /cvmfs/soft.computecanada.ca/custom/python/wheelhouse/generic\n",
      "Requirement already satisfied: numpy in /project/6069023/jhowe4/TissueTango/test/.venv/lib/python3.10/site-packages (1.23.2+computecanada)\n",
      "Note: you may need to restart the kernel to use updated packages.\n",
      "Looking in links: /cvmfs/soft.computecanada.ca/custom/python/wheelhouse/gentoo/avx2, /cvmfs/soft.computecanada.ca/custom/python/wheelhouse/gentoo/generic, /cvmfs/soft.computecanada.ca/custom/python/wheelhouse/generic\n",
      "Requirement already satisfied: tensorflow in /project/6069023/jhowe4/TissueTango/test/.venv/lib/python3.10/site-packages (2.12.0+computecanada)\n",
      "Requirement already satisfied: absl-py>=1.0.0 in /project/6069023/jhowe4/TissueTango/test/.venv/lib/python3.10/site-packages (from tensorflow) (1.4.0+computecanada)\n",
      "Requirement already satisfied: astunparse>=1.6.0 in /project/6069023/jhowe4/TissueTango/test/.venv/lib/python3.10/site-packages (from tensorflow) (1.6.3+computecanada)\n",
      "Requirement already satisfied: flatbuffers>=2.0 in /project/6069023/jhowe4/TissueTango/test/.venv/lib/python3.10/site-packages (from tensorflow) (20190709135844+computecanada)\n",
      "Requirement already satisfied: gast<=0.4.0,>=0.2.1 in /project/6069023/jhowe4/TissueTango/test/.venv/lib/python3.10/site-packages (from tensorflow) (0.4.0+computecanada)\n",
      "Requirement already satisfied: google-pasta>=0.1.1 in /project/6069023/jhowe4/TissueTango/test/.venv/lib/python3.10/site-packages (from tensorflow) (0.2.0+computecanada)\n",
      "Requirement already satisfied: grpcio<2.0,>=1.24.3 in /project/6069023/jhowe4/TissueTango/test/.venv/lib/python3.10/site-packages (from tensorflow) (1.51.3+computecanada)\n",
      "Requirement already satisfied: h5py>=2.9.0 in /project/6069023/jhowe4/TissueTango/test/.venv/lib/python3.10/site-packages (from tensorflow) (3.8.0+computecanada)\n",
      "Requirement already satisfied: jax>=0.3.15 in /project/6069023/jhowe4/TissueTango/test/.venv/lib/python3.10/site-packages (from tensorflow) (0.4.9+computecanada)\n",
      "Requirement already satisfied: keras<2.13,>=2.12.0 in /project/6069023/jhowe4/TissueTango/test/.venv/lib/python3.10/site-packages (from tensorflow) (2.12.0+computecanada)\n",
      "Requirement already satisfied: libclang>=13.0.0 in /project/6069023/jhowe4/TissueTango/test/.venv/lib/python3.10/site-packages (from tensorflow) (14.0.1+computecanada)\n",
      "Requirement already satisfied: numpy<1.24,>=1.22 in /project/6069023/jhowe4/TissueTango/test/.venv/lib/python3.10/site-packages (from tensorflow) (1.23.2+computecanada)\n",
      "Requirement already satisfied: opt-einsum>=2.3.2 in /project/6069023/jhowe4/TissueTango/test/.venv/lib/python3.10/site-packages (from tensorflow) (3.3.0+computecanada)\n",
      "Requirement already satisfied: packaging in /project/6069023/jhowe4/TissueTango/test/.venv/lib/python3.10/site-packages (from tensorflow) (23.1+computecanada)\n",
      "Requirement already satisfied: protobuf!=4.21.0,!=4.21.1,!=4.21.2,!=4.21.3,!=4.21.4,!=4.21.5,<5.0.0dev,>=3.20.3 in /project/6069023/jhowe4/TissueTango/test/.venv/lib/python3.10/site-packages (from tensorflow) (4.22.2+computecanada)\n",
      "Requirement already satisfied: setuptools in /project/6069023/jhowe4/TissueTango/test/.venv/lib/python3.10/site-packages (from tensorflow) (67.7.2)\n",
      "Requirement already satisfied: six>=1.12.0 in /project/6069023/jhowe4/TissueTango/test/.venv/lib/python3.10/site-packages (from tensorflow) (1.16.0+computecanada)\n",
      "Requirement already satisfied: tensorboard<2.13,>=2.12 in /project/6069023/jhowe4/TissueTango/test/.venv/lib/python3.10/site-packages (from tensorflow) (2.12.1+computecanada)\n",
      "Requirement already satisfied: tensorflow-estimator<2.13,>=2.12.0 in /project/6069023/jhowe4/TissueTango/test/.venv/lib/python3.10/site-packages (from tensorflow) (2.12.0+computecanada)\n",
      "Requirement already satisfied: termcolor>=1.1.0 in /project/6069023/jhowe4/TissueTango/test/.venv/lib/python3.10/site-packages (from tensorflow) (2.3.0+computecanada)\n",
      "Requirement already satisfied: typing-extensions>=3.6.6 in /project/6069023/jhowe4/TissueTango/test/.venv/lib/python3.10/site-packages (from tensorflow) (4.7.0)\n",
      "Requirement already satisfied: wrapt<1.15,>=1.11.0 in /project/6069023/jhowe4/TissueTango/test/.venv/lib/python3.10/site-packages (from tensorflow) (1.14.1+computecanada)\n",
      "Requirement already satisfied: tensorflow-io-gcs-filesystem>=0.23.1 in /project/6069023/jhowe4/TissueTango/test/.venv/lib/python3.10/site-packages (from tensorflow) (0.26.0+computecanada)\n",
      "Requirement already satisfied: wheel<1.0,>=0.23.0 in /project/6069023/jhowe4/TissueTango/test/.venv/lib/python3.10/site-packages (from astunparse>=1.6.0->tensorflow) (0.38.4+computecanada)\n",
      "Requirement already satisfied: jaxlib<=0.4.9,>=0.4.7 in /project/6069023/jhowe4/TissueTango/test/.venv/lib/python3.10/site-packages (from jax>=0.3.15->tensorflow) (0.4.7+cuda11.cudnn82.computecanada)\n",
      "Requirement already satisfied: ml-dtypes>=0.1.0 in /project/6069023/jhowe4/TissueTango/test/.venv/lib/python3.10/site-packages (from jax>=0.3.15->tensorflow) (0.2.0+computecanada)\n",
      "Requirement already satisfied: scipy>=1.7 in /project/6069023/jhowe4/TissueTango/test/.venv/lib/python3.10/site-packages (from jax>=0.3.15->tensorflow) (1.10.1+computecanada)\n",
      "Requirement already satisfied: google-auth<3,>=1.6.3 in /project/6069023/jhowe4/TissueTango/test/.venv/lib/python3.10/site-packages (from tensorboard<2.13,>=2.12->tensorflow) (2.21.0+computecanada)\n",
      "Requirement already satisfied: google-auth-oauthlib<1.1,>=0.5 in /project/6069023/jhowe4/TissueTango/test/.venv/lib/python3.10/site-packages (from tensorboard<2.13,>=2.12->tensorflow) (1.0.0+computecanada)\n",
      "Requirement already satisfied: markdown>=2.6.8 in /project/6069023/jhowe4/TissueTango/test/.venv/lib/python3.10/site-packages (from tensorboard<2.13,>=2.12->tensorflow) (3.4.3+computecanada)\n",
      "Requirement already satisfied: requests<3,>=2.21.0 in /project/6069023/jhowe4/TissueTango/test/.venv/lib/python3.10/site-packages (from tensorboard<2.13,>=2.12->tensorflow) (2.31.0)\n",
      "Requirement already satisfied: tensorboard-data-server<0.8.0,>=0.7.0 in /project/6069023/jhowe4/TissueTango/test/.venv/lib/python3.10/site-packages (from tensorboard<2.13,>=2.12->tensorflow) (0.7.0+computecanada)\n",
      "Requirement already satisfied: tensorboard-plugin-wit>=1.6.0 in /project/6069023/jhowe4/TissueTango/test/.venv/lib/python3.10/site-packages (from tensorboard<2.13,>=2.12->tensorflow) (1.8.1+computecanada)\n",
      "Requirement already satisfied: werkzeug>=1.0.1 in /project/6069023/jhowe4/TissueTango/test/.venv/lib/python3.10/site-packages (from tensorboard<2.13,>=2.12->tensorflow) (2.3.6+computecanada)\n",
      "Requirement already satisfied: cachetools<6.0,>=2.0.0 in /project/6069023/jhowe4/TissueTango/test/.venv/lib/python3.10/site-packages (from google-auth<3,>=1.6.3->tensorboard<2.13,>=2.12->tensorflow) (5.3.1+computecanada)\n",
      "Requirement already satisfied: pyasn1-modules>=0.2.1 in /project/6069023/jhowe4/TissueTango/test/.venv/lib/python3.10/site-packages (from google-auth<3,>=1.6.3->tensorboard<2.13,>=2.12->tensorflow) (0.3.0+computecanada)\n",
      "Requirement already satisfied: rsa<5,>=3.1.4 in /project/6069023/jhowe4/TissueTango/test/.venv/lib/python3.10/site-packages (from google-auth<3,>=1.6.3->tensorboard<2.13,>=2.12->tensorflow) (4.9+computecanada)\n",
      "Requirement already satisfied: urllib3<2.0 in /project/6069023/jhowe4/TissueTango/test/.venv/lib/python3.10/site-packages (from google-auth<3,>=1.6.3->tensorboard<2.13,>=2.12->tensorflow) (1.26.16)\n",
      "Requirement already satisfied: requests-oauthlib>=0.7.0 in /project/6069023/jhowe4/TissueTango/test/.venv/lib/python3.10/site-packages (from google-auth-oauthlib<1.1,>=0.5->tensorboard<2.13,>=2.12->tensorflow) (1.3.1+computecanada)\n",
      "Requirement already satisfied: charset-normalizer<4,>=2 in /project/6069023/jhowe4/TissueTango/test/.venv/lib/python3.10/site-packages (from requests<3,>=2.21.0->tensorboard<2.13,>=2.12->tensorflow) (3.1.0+computecanada)\n",
      "Requirement already satisfied: idna<4,>=2.5 in /project/6069023/jhowe4/TissueTango/test/.venv/lib/python3.10/site-packages (from requests<3,>=2.21.0->tensorboard<2.13,>=2.12->tensorflow) (3.4+computecanada)\n",
      "Requirement already satisfied: certifi>=2017.4.17 in /project/6069023/jhowe4/TissueTango/test/.venv/lib/python3.10/site-packages (from requests<3,>=2.21.0->tensorboard<2.13,>=2.12->tensorflow) (2023.5.7)\n",
      "Requirement already satisfied: MarkupSafe>=2.1.1 in /project/6069023/jhowe4/TissueTango/test/.venv/lib/python3.10/site-packages (from werkzeug>=1.0.1->tensorboard<2.13,>=2.12->tensorflow) (2.1.2+computecanada)\n",
      "Requirement already satisfied: pyasn1<0.6.0,>=0.4.6 in /project/6069023/jhowe4/TissueTango/test/.venv/lib/python3.10/site-packages (from pyasn1-modules>=0.2.1->google-auth<3,>=1.6.3->tensorboard<2.13,>=2.12->tensorflow) (0.5.0+computecanada)\n",
      "Requirement already satisfied: oauthlib>=3.0.0 in /project/6069023/jhowe4/TissueTango/test/.venv/lib/python3.10/site-packages (from requests-oauthlib>=0.7.0->google-auth-oauthlib<1.1,>=0.5->tensorboard<2.13,>=2.12->tensorflow) (3.2.2+computecanada)\n",
      "Note: you may need to restart the kernel to use updated packages.\n",
      "Looking in links: /cvmfs/soft.computecanada.ca/custom/python/wheelhouse/gentoo/avx2, /cvmfs/soft.computecanada.ca/custom/python/wheelhouse/gentoo/generic, /cvmfs/soft.computecanada.ca/custom/python/wheelhouse/generic\n",
      "Requirement already satisfied: pillow in /project/6069023/jhowe4/TissueTango/test/.venv/lib/python3.10/site-packages (9.5.0+computecanada)\n",
      "Note: you may need to restart the kernel to use updated packages.\n"
     ]
    }
   ],
   "source": [
    "%pip install typing-extensions\n",
    "%pip install requests\n",
    "%pip install pandas\n",
    "%pip install numpy\n",
    "%pip install tensorflow\n",
    "%pip install pillow"
   ]
  },
  {
   "cell_type": "code",
   "execution_count": 2,
   "metadata": {},
   "outputs": [
    {
     "name": "stderr",
     "output_type": "stream",
     "text": [
      "2023-06-30 15:05:18.505880: I tensorflow/core/util/port.cc:110] oneDNN custom operations are on. You may see slightly different numerical results due to floating-point round-off errors from different computation orders. To turn them off, set the environment variable `TF_ENABLE_ONEDNN_OPTS=0`.\n",
      "2023-06-30 15:05:18.919350: I tensorflow/core/platform/cpu_feature_guard.cc:182] This TensorFlow binary is optimized to use available CPU instructions in performance-critical operations.\n",
      "To enable the following instructions: AVX2 AVX512F AVX512_VNNI FMA, in other operations, rebuild TensorFlow with the appropriate compiler flags.\n",
      "2023-06-30 15:05:21.248070: W tensorflow/compiler/tf2tensorrt/utils/py_utils.cc:38] TF-TRT Warning: Could not find TensorRT\n"
     ]
    }
   ],
   "source": [
    "import tensorflow as tf\n",
    "from tensorflow.keras.preprocessing.image import ImageDataGenerator\n",
    "from tensorflow.keras.applications.resnet50 import preprocess_input\n",
    "import pandas as pd\n",
    "import numpy as np\n",
    "from os import listdir, makedirs, remove\n",
    "from os.path import join, isdir, exists, dirname\n",
    "from shutil import move, rmtree\n",
    "from PIL import Image\n",
    "from PIL import ImageFile\n",
    "import PIL"
   ]
  },
  {
   "cell_type": "code",
   "execution_count": 2,
   "metadata": {},
   "outputs": [],
   "source": [
    "ImageFile.LOAD_TRUNCATED_IMAGES = True\n",
    "tf.compat.v1.disable_eager_execution()\n",
    "\n",
    "LABEL = '/scratch/jhowe4/outputs/GDC/paad_example2/labels.csv'\n",
    "ERR_FILE = '/scratch/jhowe4/outputs/GDC/paad_example2/corrupt_images_log.txt'"
   ]
  },
  {
   "cell_type": "code",
   "execution_count": 3,
   "metadata": {},
   "outputs": [],
   "source": [
    "def extract_labels(ds):\n",
    "  labels = []\n",
    "  num_batches = len(ds)\n",
    "  for batch_idx in range(num_batches):\n",
    "    _, batch_labels = ds[batch_idx]\n",
    "    labels.extend(batch_labels)\n",
    "  \n",
    "  labels = np.array(labels)\n",
    "  return labels "
   ]
  },
  {
   "cell_type": "code",
   "execution_count": 57,
   "metadata": {},
   "outputs": [
    {
     "name": "stdout",
     "output_type": "stream",
     "text": [
      "Found 32434 images belonging to 2 classes.\n",
      "Found 1363 images belonging to 2 classes.\n",
      "Found 3880 images belonging to 2 classes.\n"
     ]
    }
   ],
   "source": [
    "# Make sure the error file is clean\n",
    "if exists(ERR_FILE):\n",
    "  remove(ERR_FILE)\n",
    "\n",
    "# Create data generator\n",
    "datagen = ImageDataGenerator(\n",
    "  rescale=1/255,\n",
    "  preprocessing_function=preprocess_input\n",
    ")\n",
    "  \n",
    "# Training dataset\n",
    "train_ds = datagen.flow_from_directory(\n",
    "  '/scratch/jhowe4/outputs/GDC/paad_example2/train',\n",
    "  target_size=(224, 224),\n",
    "  class_mode='binary',\n",
    "  batch_size=32\n",
    ")\n",
    "  \n",
    "# Testing dataset\n",
    "test_ds = datagen.flow_from_directory(\n",
    "  '/scratch/jhowe4/outputs/GDC/paad_example2/test',\n",
    "  target_size=(224, 224),\n",
    "  class_mode='binary',\n",
    "  batch_size=32\n",
    ")\n",
    "  \n",
    "# Validation dataset\n",
    "valid_ds = datagen.flow_from_directory(\n",
    "  '/scratch/jhowe4/outputs/GDC/paad_example2/valid',\n",
    "  target_size=(224, 224),\n",
    "  class_mode='binary',\n",
    "  batch_size=32\n",
    ")"
   ]
  },
  {
   "cell_type": "code",
   "execution_count": 61,
   "metadata": {},
   "outputs": [
    {
     "name": "stderr",
     "output_type": "stream",
     "text": [
      "2023-06-30 12:46:17.351481: W tensorflow/c/c_api.cc:300] Operation '{name:'conv4_block4_3_bn_5/moving_mean/Assign' id:38281 op device:{requested: '', assigned: ''} def:{{{node conv4_block4_3_bn_5/moving_mean/Assign}} = AssignVariableOp[_has_manual_control_dependencies=true, dtype=DT_FLOAT, validate_shape=false](conv4_block4_3_bn_5/moving_mean, conv4_block4_3_bn_5/moving_mean/Initializer/zeros)}}' was changed by setting attribute after it was run by a session. This mutation will have no effect, and will trigger an error in the future. Either don't modify nodes after running them or create a new session.\n"
     ]
    }
   ],
   "source": [
    "# Build model\n",
    "model = tf.keras.Sequential()\n",
    "\n",
    "# Transfer learning\n",
    "model.add(tf.keras.applications.ResNet50(include_top = False, pooling = 'avg', weights ='imagenet'))\n",
    "  \n",
    "# 2nd layer as Dense for 2-class classification\n",
    "model.add(tf.keras.layers.Dense(1, activation = 'sigmoid'))\n",
    "  \n",
    "# Not training the resnet on the new data set. Using the pre-trained weigths\n",
    "model.layers[0].trainable = False  \n",
    "  \n",
    "# compile the model\n",
    "model.compile(\n",
    "  optimizer = 'adam', \n",
    "  loss = 'binary_crossentropy', \n",
    "  metrics = [tf.keras.metrics.AUC(name=\"auc\")])"
   ]
  },
  {
   "cell_type": "code",
   "execution_count": 3,
   "metadata": {
    "tags": []
   },
   "outputs": [
    {
     "name": "stdout",
     "output_type": "stream",
     "text": [
      "Num GPUs Available:  1\n"
     ]
    }
   ],
   "source": [
    "print(\"Num GPUs Available: \", len(tf.config.list_physical_devices('GPU')))"
   ]
  },
  {
   "cell_type": "code",
   "execution_count": 71,
   "metadata": {
    "tags": []
   },
   "outputs": [
    {
     "name": "stdout",
     "output_type": "stream",
     "text": [
      "Number of Positive Samples: 1072\n",
      "Number of Negative Samples: 291\n",
      "Weight for class 0: 2.34\n",
      "Weight for class 1: 0.64\n"
     ]
    }
   ],
   "source": [
    "# Find the prevalence of each class in the test dataset\n",
    "pos = 0\n",
    "neg = 0\n",
    "num_batches = len(test_ds)\n",
    "for batch_idx in range(num_batches):\n",
    "    _, batch_labels = test_ds[batch_idx]\n",
    "    for label in batch_labels:\n",
    "        if label == 1:\n",
    "            pos = pos + 1\n",
    "        elif label == 0:\n",
    "            neg = neg + 1\n",
    "\n",
    "total = pos + neg\n",
    "print(f\"Number of Positive Samples: {pos}\\nNumber of Negative Samples: {neg}\")\n",
    "weight_for_0 = (1 / neg) * (total / 2.0)\n",
    "weight_for_1 = (1 / pos) * (total / 2.0)\n",
    "\n",
    "class_weight = {0: weight_for_0, 1: weight_for_1}\n",
    "print('Weight for class 0: {:.2f}' .format(weight_for_0))\n",
    "print('Weight for class 1: {:.2f}' .format(weight_for_1))"
   ]
  },
  {
   "cell_type": "code",
   "execution_count": 1,
   "metadata": {},
   "outputs": [
    {
     "ename": "NameError",
     "evalue": "name 'model' is not defined",
     "output_type": "error",
     "traceback": [
      "\u001b[0;31m---------------------------------------------------------------------------\u001b[0m",
      "\u001b[0;31mNameError\u001b[0m                                 Traceback (most recent call last)",
      "Cell \u001b[0;32mIn[1], line 2\u001b[0m\n\u001b[1;32m      1\u001b[0m \u001b[38;5;66;03m# Fit the model\u001b[39;00m\n\u001b[0;32m----> 2\u001b[0m fit_history \u001b[38;5;241m=\u001b[39m \u001b[43mmodel\u001b[49m\u001b[38;5;241m.\u001b[39mfit(\n\u001b[1;32m      3\u001b[0m   train_ds,\n\u001b[1;32m      4\u001b[0m   steps_per_epoch\u001b[38;5;241m=\u001b[39m\u001b[38;5;241m4\u001b[39m,\n\u001b[1;32m      5\u001b[0m   validation_data\u001b[38;5;241m=\u001b[39mtest_ds,\n\u001b[1;32m      6\u001b[0m   validation_steps\u001b[38;5;241m=\u001b[39m\u001b[38;5;241m4\u001b[39m,\n\u001b[1;32m      7\u001b[0m   epochs\u001b[38;5;241m=\u001b[39m\u001b[38;5;241m10\u001b[39m,\n\u001b[1;32m      8\u001b[0m   class_weight\u001b[38;5;241m=\u001b[39mclass_weight\n\u001b[1;32m      9\u001b[0m )\n\u001b[1;32m     11\u001b[0m \u001b[38;5;66;03m# Save the model weights\u001b[39;00m\n\u001b[1;32m     12\u001b[0m weights_path \u001b[38;5;241m=\u001b[39m \u001b[38;5;124m'\u001b[39m\u001b[38;5;124m../model/weights/tf-2023-06-30_weights.h5\u001b[39m\u001b[38;5;124m'\u001b[39m\n",
      "\u001b[0;31mNameError\u001b[0m: name 'model' is not defined"
     ]
    }
   ],
   "source": [
    "  # Fit the model\n",
    "  fit_history = model.fit(\n",
    "    train_ds,\n",
    "    steps_per_epoch=4,\n",
    "    validation_data=test_ds,\n",
    "    validation_steps=4,\n",
    "    epochs=10,\n",
    "    class_weight=class_weight\n",
    "  )\n",
    "  \n",
    "  # Save the model weights\n",
    "  weights_path = '../model/weights/tf-2023-06-30_weights.h5'\n",
    "  weights_dir = dirname(weights_path)\n",
    "  if not isdir(weights_dir):\n",
    "    makedirs(weights_dir)\n",
    "  model.save_weights(weights_path)"
   ]
  },
  {
   "cell_type": "code",
   "execution_count": 74,
   "metadata": {},
   "outputs": [
    {
     "name": "stdout",
     "output_type": "stream",
     "text": [
      "[test loss, test auc]: [0.5323823675757549, 0.5276785]\n",
      "Predicted labels: 3880\n",
      "True labels: 3880\n"
     ]
    }
   ],
   "source": [
    "  # Evaluate model\n",
    "  eval_result = model.evaluate(\n",
    "    valid_ds,\n",
    "    steps=len(valid_ds)\n",
    "  )\n",
    "  print(\"[test loss, test auc]:\", eval_result)\n",
    "  \n",
    "  y_pred = model.predict(valid_ds)\n",
    "  y_true = extract_labels(valid_ds)\n",
    "  \n",
    "  print(f\"Predicted labels: {len(y_pred)}\")\n",
    "\n",
    "  print(f\"True labels: {len(y_true)}\")"
   ]
  },
  {
   "cell_type": "code",
   "execution_count": 14,
   "metadata": {},
   "outputs": [],
   "source": [
    "import os\n",
    "os.environ['TF_CPP_MIN_LOG_LEVEL'] = '3'"
   ]
  },
  {
   "cell_type": "code",
   "execution_count": 1,
   "metadata": {},
   "outputs": [
    {
     "name": "stdout",
     "output_type": "stream",
     "text": [
      "Looking in links: /cvmfs/soft.computecanada.ca/custom/python/wheelhouse/gentoo/avx2, /cvmfs/soft.computecanada.ca/custom/python/wheelhouse/gentoo/generic, /cvmfs/soft.computecanada.ca/custom/python/wheelhouse/generic\n",
      "\u001b[33mWARNING: Retrying (Retry(total=4, connect=None, read=None, redirect=None, status=None)) after connection broken by 'NewConnectionError('<pip._vendor.urllib3.connection.HTTPSConnection object at 0x2b6c98f3a470>: Failed to establish a new connection: [Errno 101] Network is unreachable')': /simple/scikit-learn/\u001b[0m\u001b[33m\n",
      "\u001b[0m\u001b[33mWARNING: Retrying (Retry(total=3, connect=None, read=None, redirect=None, status=None)) after connection broken by 'NewConnectionError('<pip._vendor.urllib3.connection.HTTPSConnection object at 0x2b6c98f3a7a0>: Failed to establish a new connection: [Errno 101] Network is unreachable')': /simple/scikit-learn/\u001b[0m\u001b[33m\n",
      "\u001b[0m\u001b[33mWARNING: Retrying (Retry(total=2, connect=None, read=None, redirect=None, status=None)) after connection broken by 'NewConnectionError('<pip._vendor.urllib3.connection.HTTPSConnection object at 0x2b6c98f3a950>: Failed to establish a new connection: [Errno 101] Network is unreachable')': /simple/scikit-learn/\u001b[0m\u001b[33m\n",
      "\u001b[0m\u001b[33mWARNING: Retrying (Retry(total=1, connect=None, read=None, redirect=None, status=None)) after connection broken by 'NewConnectionError('<pip._vendor.urllib3.connection.HTTPSConnection object at 0x2b6c98f3ab00>: Failed to establish a new connection: [Errno 101] Network is unreachable')': /simple/scikit-learn/\u001b[0m\u001b[33m\n",
      "\u001b[0m\u001b[33mWARNING: Retrying (Retry(total=0, connect=None, read=None, redirect=None, status=None)) after connection broken by 'NewConnectionError('<pip._vendor.urllib3.connection.HTTPSConnection object at 0x2b6c98f3acb0>: Failed to establish a new connection: [Errno 101] Network is unreachable')': /simple/scikit-learn/\u001b[0m\u001b[33m\n",
      "\u001b[0mProcessing /cvmfs/soft.computecanada.ca/custom/python/wheelhouse/gentoo/generic/scikit_learn-1.2.1+computecanada-cp310-cp310-linux_x86_64.whl\n",
      "Requirement already satisfied: numpy>=1.21 in /project/6069023/jhowe4/TissueTango/test/.venv/lib/python3.10/site-packages (from scikit-learn) (1.23.2+computecanada)\n",
      "Requirement already satisfied: scipy>=1.3.2 in /project/6069023/jhowe4/TissueTango/test/.venv/lib/python3.10/site-packages (from scikit-learn) (1.10.1+computecanada)\n",
      "\u001b[33mWARNING: Retrying (Retry(total=4, connect=None, read=None, redirect=None, status=None)) after connection broken by 'NewConnectionError('<pip._vendor.urllib3.connection.HTTPSConnection object at 0x2b6c9995d450>: Failed to establish a new connection: [Errno 101] Network is unreachable')': /simple/joblib/\u001b[0m\u001b[33m\n",
      "\u001b[0m\u001b[33mWARNING: Retrying (Retry(total=3, connect=None, read=None, redirect=None, status=None)) after connection broken by 'NewConnectionError('<pip._vendor.urllib3.connection.HTTPSConnection object at 0x2b6c9993fe80>: Failed to establish a new connection: [Errno 101] Network is unreachable')': /simple/joblib/\u001b[0m\u001b[33m\n",
      "\u001b[0m\u001b[33mWARNING: Retrying (Retry(total=2, connect=None, read=None, redirect=None, status=None)) after connection broken by 'NewConnectionError('<pip._vendor.urllib3.connection.HTTPSConnection object at 0x2b6c9993cd60>: Failed to establish a new connection: [Errno 101] Network is unreachable')': /simple/joblib/\u001b[0m\u001b[33m\n",
      "\u001b[0m\u001b[33mWARNING: Retrying (Retry(total=1, connect=None, read=None, redirect=None, status=None)) after connection broken by 'NewConnectionError('<pip._vendor.urllib3.connection.HTTPSConnection object at 0x2b6c9993ec50>: Failed to establish a new connection: [Errno 101] Network is unreachable')': /simple/joblib/\u001b[0m\u001b[33m\n",
      "\u001b[0m\u001b[33mWARNING: Retrying (Retry(total=0, connect=None, read=None, redirect=None, status=None)) after connection broken by 'NewConnectionError('<pip._vendor.urllib3.connection.HTTPSConnection object at 0x2b6c9993eaa0>: Failed to establish a new connection: [Errno 101] Network is unreachable')': /simple/joblib/\u001b[0m\u001b[33m\n",
      "\u001b[0mProcessing /cvmfs/soft.computecanada.ca/custom/python/wheelhouse/generic/joblib-1.3.1+computecanada-py3-none-any.whl (from scikit-learn)\n",
      "\u001b[33mWARNING: Retrying (Retry(total=4, connect=None, read=None, redirect=None, status=None)) after connection broken by 'NewConnectionError('<pip._vendor.urllib3.connection.HTTPSConnection object at 0x2b6c9995cc70>: Failed to establish a new connection: [Errno 101] Network is unreachable')': /simple/threadpoolctl/\u001b[0m\u001b[33m\n",
      "\u001b[0m\u001b[33mWARNING: Retrying (Retry(total=3, connect=None, read=None, redirect=None, status=None)) after connection broken by 'NewConnectionError('<pip._vendor.urllib3.connection.HTTPSConnection object at 0x2b6c9995d2d0>: Failed to establish a new connection: [Errno 101] Network is unreachable')': /simple/threadpoolctl/\u001b[0m\u001b[33m\n",
      "\u001b[0m\u001b[33mWARNING: Retrying (Retry(total=2, connect=None, read=None, redirect=None, status=None)) after connection broken by 'NewConnectionError('<pip._vendor.urllib3.connection.HTTPSConnection object at 0x2b6c9995cbb0>: Failed to establish a new connection: [Errno 101] Network is unreachable')': /simple/threadpoolctl/\u001b[0m\u001b[33m\n",
      "\u001b[0m\u001b[33mWARNING: Retrying (Retry(total=1, connect=None, read=None, redirect=None, status=None)) after connection broken by 'NewConnectionError('<pip._vendor.urllib3.connection.HTTPSConnection object at 0x2b6c9995c0a0>: Failed to establish a new connection: [Errno 101] Network is unreachable')': /simple/threadpoolctl/\u001b[0m\u001b[33m\n",
      "\u001b[0m\u001b[33mWARNING: Retrying (Retry(total=0, connect=None, read=None, redirect=None, status=None)) after connection broken by 'NewConnectionError('<pip._vendor.urllib3.connection.HTTPSConnection object at 0x2b6c9995c1f0>: Failed to establish a new connection: [Errno 101] Network is unreachable')': /simple/threadpoolctl/\u001b[0m\u001b[33m\n",
      "\u001b[0mProcessing /cvmfs/soft.computecanada.ca/custom/python/wheelhouse/generic/threadpoolctl-3.1.0+computecanada-py3-none-any.whl (from scikit-learn)\n",
      "Installing collected packages: threadpoolctl, joblib, scikit-learn\n",
      "Successfully installed joblib-1.3.1+computecanada scikit-learn-1.2.1+computecanada threadpoolctl-3.1.0+computecanada\n",
      "Note: you may need to restart the kernel to use updated packages.\n",
      "Looking in links: /cvmfs/soft.computecanada.ca/custom/python/wheelhouse/gentoo/avx2, /cvmfs/soft.computecanada.ca/custom/python/wheelhouse/gentoo/generic, /cvmfs/soft.computecanada.ca/custom/python/wheelhouse/generic\n",
      "Requirement already satisfied: matplotlib in /project/6069023/jhowe4/TissueTango/test/.venv/lib/python3.10/site-packages (3.7.0+computecanada)\n",
      "Requirement already satisfied: contourpy>=1.0.1 in /project/6069023/jhowe4/TissueTango/test/.venv/lib/python3.10/site-packages (from matplotlib) (1.0.7+computecanada)\n",
      "Requirement already satisfied: cycler>=0.10 in /project/6069023/jhowe4/TissueTango/test/.venv/lib/python3.10/site-packages (from matplotlib) (0.11.0+computecanada)\n",
      "Requirement already satisfied: fonttools>=4.22.0 in /project/6069023/jhowe4/TissueTango/test/.venv/lib/python3.10/site-packages (from matplotlib) (4.40.0+computecanada)\n",
      "Requirement already satisfied: kiwisolver>=1.0.1 in /project/6069023/jhowe4/TissueTango/test/.venv/lib/python3.10/site-packages (from matplotlib) (1.4.4+computecanada)\n",
      "Requirement already satisfied: numpy>=1.21 in /project/6069023/jhowe4/TissueTango/test/.venv/lib/python3.10/site-packages (from matplotlib) (1.23.2+computecanada)\n",
      "Requirement already satisfied: packaging>=20.0 in /project/6069023/jhowe4/TissueTango/test/.venv/lib/python3.10/site-packages (from matplotlib) (23.1+computecanada)\n",
      "Requirement already satisfied: pillow>=6.2.0 in /project/6069023/jhowe4/TissueTango/test/.venv/lib/python3.10/site-packages (from matplotlib) (9.5.0+computecanada)\n",
      "Requirement already satisfied: pyparsing>=2.3.1 in /project/6069023/jhowe4/TissueTango/test/.venv/lib/python3.10/site-packages (from matplotlib) (3.1.0)\n",
      "Requirement already satisfied: python-dateutil>=2.7 in /project/6069023/jhowe4/TissueTango/test/.venv/lib/python3.10/site-packages (from matplotlib) (2.8.2+computecanada)\n",
      "Requirement already satisfied: six>=1.5 in /project/6069023/jhowe4/TissueTango/test/.venv/lib/python3.10/site-packages (from python-dateutil>=2.7->matplotlib) (1.16.0+computecanada)\n",
      "Note: you may need to restart the kernel to use updated packages.\n"
     ]
    }
   ],
   "source": [
    "%pip install scikit-learn\n",
    "%pip install matplotlib"
   ]
  },
  {
   "cell_type": "code",
   "execution_count": 12,
   "metadata": {},
   "outputs": [],
   "source": [
    "import matplotlib.pyplot as plt\n",
    "from sklearn.metrics import roc_curve, roc_auc_score"
   ]
  },
  {
   "cell_type": "code",
   "execution_count": 75,
   "metadata": {},
   "outputs": [
    {
     "data": {
      "image/png": "[encoded data removed]",
      "text/plain": [
       "<Figure size 640x480 with 1 Axes>"
      ]
     },
     "metadata": {},
     "output_type": "display_data"
    }
   ],
   "source": [
    "def plot_roc_curve(y_true, y_pred):\n",
    "    \"\"\"\n",
    "    plots the roc curve based off the probabilities\n",
    "    \"\"\"\n",
    "    \n",
    "    fpr, tpr, thresholds = roc_curve(y_true, y_pred)\n",
    "    plt.plot(fpr, tpr)\n",
    "    plt.xlabel('False Positive Rate')\n",
    "    plt.ylabel('True Positive Rate')\n",
    "    \n",
    "plot_roc_curve(y_true, y_pred)"
   ]
  },
  {
   "cell_type": "code",
   "execution_count": 73,
   "metadata": {},
   "outputs": [
    {
     "name": "stdout",
     "output_type": "stream",
     "text": [
      "[0.6569835]\n",
      "[0.6506831]\n",
      "[0.62848556]\n",
      "[0.64687103]\n",
      "[0.63364977]\n",
      "[0.65611845]\n",
      "[0.64889157]\n",
      "[0.66468805]\n",
      "[0.6547369]\n",
      "[0.64791906]\n"
     ]
    }
   ],
   "source": [
    "for i in range(10):\n",
    "    print(y_pred[i])"
   ]
  },
  {
   "cell_type": "code",
   "execution_count": null,
   "metadata": {},
   "outputs": [],
   "source": []
  }
 ],
 "metadata": {
  "kernelspec": {
   "display_name": "Python (.venv)",
   "language": "python",
   "name": ".venv"
  },
  "language_info": {
   "codemirror_mode": {
    "name": "ipython",
    "version": 3
   },
   "file_extension": ".py",
   "mimetype": "text/x-python",
   "name": "python",
   "nbconvert_exporter": "python",
   "pygments_lexer": "ipython3",
   "version": "3.10.2"
  }
 },
 "nbformat": 4,
 "nbformat_minor": 4
}
