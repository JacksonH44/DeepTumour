{
 "cells": [
  {
   "cell_type": "code",
   "execution_count": 1,
   "id": "b92ecafe-f19e-4d50-9545-280b96c916fd",
   "metadata": {},
   "outputs": [
    {
     "name": "stdout",
     "output_type": "stream",
     "text": [
      "Looking in links: /cvmfs/soft.computecanada.ca/custom/python/wheelhouse/gentoo/avx2, /cvmfs/soft.computecanada.ca/custom/python/wheelhouse/gentoo/generic, /cvmfs/soft.computecanada.ca/custom/python/wheelhouse/generic\n",
      "\u001b[33mWARNING: Retrying (Retry(total=4, connect=None, read=None, redirect=None, status=None)) after connection broken by 'NewConnectionError('<pip._vendor.urllib3.connection.HTTPSConnection object at 0x2b290d10ad70>: Failed to establish a new connection: [Errno 101] Network is unreachable')': /simple/seaborn/\u001b[0m\u001b[33m\n",
      "\u001b[0m\u001b[33mWARNING: Retrying (Retry(total=3, connect=None, read=None, redirect=None, status=None)) after connection broken by 'NewConnectionError('<pip._vendor.urllib3.connection.HTTPSConnection object at 0x2b290d10b0a0>: Failed to establish a new connection: [Errno 101] Network is unreachable')': /simple/seaborn/\u001b[0m\u001b[33m\n",
      "\u001b[0m\u001b[33mWARNING: Retrying (Retry(total=2, connect=None, read=None, redirect=None, status=None)) after connection broken by 'NewConnectionError('<pip._vendor.urllib3.connection.HTTPSConnection object at 0x2b290d10b250>: Failed to establish a new connection: [Errno 101] Network is unreachable')': /simple/seaborn/\u001b[0m\u001b[33m\n",
      "\u001b[0m\u001b[33mWARNING: Retrying (Retry(total=1, connect=None, read=None, redirect=None, status=None)) after connection broken by 'NewConnectionError('<pip._vendor.urllib3.connection.HTTPSConnection object at 0x2b290d10b400>: Failed to establish a new connection: [Errno 101] Network is unreachable')': /simple/seaborn/\u001b[0m\u001b[33m\n",
      "\u001b[0m\u001b[33mWARNING: Retrying (Retry(total=0, connect=None, read=None, redirect=None, status=None)) after connection broken by 'NewConnectionError('<pip._vendor.urllib3.connection.HTTPSConnection object at 0x2b290d10b5b0>: Failed to establish a new connection: [Errno 101] Network is unreachable')': /simple/seaborn/\u001b[0m\u001b[33m\n",
      "\u001b[0mProcessing /cvmfs/soft.computecanada.ca/custom/python/wheelhouse/generic/seaborn-0.12.2+computecanada-py3-none-any.whl\n",
      "Requirement already satisfied: numpy!=1.24.0,>=1.17 in /project/6069023/jhowe4/TissueTango/test/.venv/lib/python3.10/site-packages (from seaborn) (1.23.2+computecanada)\n",
      "Requirement already satisfied: pandas>=0.25 in /project/6069023/jhowe4/TissueTango/test/.venv/lib/python3.10/site-packages (from seaborn) (2.0.0+computecanada)\n",
      "Requirement already satisfied: matplotlib!=3.6.1,>=3.1 in /project/6069023/jhowe4/TissueTango/test/.venv/lib/python3.10/site-packages (from seaborn) (3.7.0+computecanada)\n",
      "Requirement already satisfied: contourpy>=1.0.1 in /project/6069023/jhowe4/TissueTango/test/.venv/lib/python3.10/site-packages (from matplotlib!=3.6.1,>=3.1->seaborn) (1.0.7+computecanada)\n",
      "Requirement already satisfied: cycler>=0.10 in /project/6069023/jhowe4/TissueTango/test/.venv/lib/python3.10/site-packages (from matplotlib!=3.6.1,>=3.1->seaborn) (0.11.0+computecanada)\n",
      "Requirement already satisfied: fonttools>=4.22.0 in /project/6069023/jhowe4/TissueTango/test/.venv/lib/python3.10/site-packages (from matplotlib!=3.6.1,>=3.1->seaborn) (4.40.0+computecanada)\n",
      "Requirement already satisfied: kiwisolver>=1.0.1 in /project/6069023/jhowe4/TissueTango/test/.venv/lib/python3.10/site-packages (from matplotlib!=3.6.1,>=3.1->seaborn) (1.4.4+computecanada)\n",
      "Requirement already satisfied: packaging>=20.0 in /project/6069023/jhowe4/TissueTango/test/.venv/lib/python3.10/site-packages (from matplotlib!=3.6.1,>=3.1->seaborn) (23.1+computecanada)\n",
      "Requirement already satisfied: pillow>=6.2.0 in /project/6069023/jhowe4/TissueTango/test/.venv/lib/python3.10/site-packages (from matplotlib!=3.6.1,>=3.1->seaborn) (9.5.0+computecanada)\n",
      "Requirement already satisfied: pyparsing>=2.3.1 in /project/6069023/jhowe4/TissueTango/test/.venv/lib/python3.10/site-packages (from matplotlib!=3.6.1,>=3.1->seaborn) (3.1.0)\n",
      "Requirement already satisfied: python-dateutil>=2.7 in /project/6069023/jhowe4/TissueTango/test/.venv/lib/python3.10/site-packages (from matplotlib!=3.6.1,>=3.1->seaborn) (2.8.2+computecanada)\n",
      "Requirement already satisfied: pytz>=2020.1 in /project/6069023/jhowe4/TissueTango/test/.venv/lib/python3.10/site-packages (from pandas>=0.25->seaborn) (2023.3+computecanada)\n",
      "Requirement already satisfied: tzdata>=2022.1 in /project/6069023/jhowe4/TissueTango/test/.venv/lib/python3.10/site-packages (from pandas>=0.25->seaborn) (2023.3+computecanada)\n",
      "Requirement already satisfied: six>=1.5 in /project/6069023/jhowe4/TissueTango/test/.venv/lib/python3.10/site-packages (from python-dateutil>=2.7->matplotlib!=3.6.1,>=3.1->seaborn) (1.16.0+computecanada)\n",
      "Installing collected packages: seaborn\n",
      "Successfully installed seaborn-0.12.2+computecanada\n",
      "Note: you may need to restart the kernel to use updated packages.\n"
     ]
    }
   ],
   "source": [
    "%pip install seaborn"
   ]
  },
  {
   "cell_type": "markdown",
   "id": "66ab4223-a78f-4a21-90ed-efb7571d148e",
   "metadata": {},
   "source": [
    "Following the tutorial on imbalanced data by Tensorflow here: https://www.tensorflow.org/tutorials/structured_data/imbalanced_data"
   ]
  },
  {
   "cell_type": "code",
   "execution_count": 1,
   "id": "6bc91d49-1151-4df1-b702-df768b7676e6",
   "metadata": {},
   "outputs": [
    {
     "name": "stderr",
     "output_type": "stream",
     "text": [
      "2023-07-10 10:10:05.323082: I tensorflow/core/util/port.cc:110] oneDNN custom operations are on. You may see slightly different numerical results due to floating-point round-off errors from different computation orders. To turn them off, set the environment variable `TF_ENABLE_ONEDNN_OPTS=0`.\n",
      "2023-07-10 10:10:14.916491: I tensorflow/core/platform/cpu_feature_guard.cc:182] This TensorFlow binary is optimized to use available CPU instructions in performance-critical operations.\n",
      "To enable the following instructions: AVX2 AVX512F AVX512_VNNI FMA, in other operations, rebuild TensorFlow with the appropriate compiler flags.\n",
      "2023-07-10 10:12:29.672318: W tensorflow/compiler/tf2tensorrt/utils/py_utils.cc:38] TF-TRT Warning: Could not find TensorRT\n"
     ]
    }
   ],
   "source": [
    "import tensorflow as tf\n",
    "from tensorflow.keras.preprocessing.image import ImageDataGenerator\n",
    "from tensorflow.keras.applications.resnet50 import preprocess_input\n",
    "\n",
    "import os\n",
    "import tempfile\n",
    "\n",
    "import matplotlib.pyplot as plt\n",
    "import numpy as np\n",
    "\n",
    "import sklearn\n",
    "from sklearn.metrics import confusion_matrix\n",
    "from PIL import ImageFile\n",
    "\n",
    "ImageFile.LOAD_TRUNCATED_IMAGES = True"
   ]
  },
  {
   "cell_type": "code",
   "execution_count": 2,
   "id": "2bbe90e2-5ef9-45d3-8b5f-cf174407a9e0",
   "metadata": {},
   "outputs": [
    {
     "name": "stdout",
     "output_type": "stream",
     "text": [
      "Num GPUs Available:  1\n"
     ]
    }
   ],
   "source": [
    "# Check for GPU\n",
    "print(\"Num GPUs Available: \", len(tf.config.list_physical_devices('GPU')))"
   ]
  },
  {
   "cell_type": "code",
   "execution_count": 3,
   "id": "34317cd2-c0a1-4bc6-8669-dc850633be75",
   "metadata": {},
   "outputs": [
    {
     "name": "stdout",
     "output_type": "stream",
     "text": [
      "Found 32434 images belonging to 2 classes.\n",
      "Found 1363 images belonging to 2 classes.\n",
      "Found 3880 images belonging to 2 classes.\n"
     ]
    }
   ],
   "source": [
    "# Create data generator\n",
    "datagen = ImageDataGenerator(\n",
    "  rescale=1/255,\n",
    "  preprocessing_function=preprocess_input,\n",
    "  rotation_range=40,\n",
    "  horizontal_flip=True\n",
    ")\n",
    "  \n",
    "# Training dataset\n",
    "train_ds = datagen.flow_from_directory(\n",
    "  '/scratch/jhowe4/outputs/GDC/paad_example2/train',\n",
    "  target_size=(224, 224),\n",
    "  class_mode='binary',\n",
    "  batch_size=32\n",
    ")\n",
    "  \n",
    "# Testing dataset\n",
    "test_ds = datagen.flow_from_directory(\n",
    "  '/scratch/jhowe4/outputs/GDC/paad_example2/test',\n",
    "  target_size=(224, 224),\n",
    "  class_mode='binary',\n",
    "  batch_size=32\n",
    ")\n",
    "  \n",
    "# Validation dataset\n",
    "valid_ds = datagen.flow_from_directory(\n",
    "  '/scratch/jhowe4/outputs/GDC/paad_example2/valid',\n",
    "  target_size=(224, 224),\n",
    "  class_mode='binary',\n",
    "  batch_size=32\n",
    ")"
   ]
  },
  {
   "cell_type": "markdown",
   "id": "1325ac3f-eae9-4185-81db-9f01f70c51ff",
   "metadata": {
    "tags": []
   },
   "source": [
    "### Define the model and the metrics\n",
    "Define a function that creates a simple transfer learning model for binary classification"
   ]
  },
  {
   "cell_type": "code",
   "execution_count": 10,
   "id": "63c646e1-9e2d-48ce-b908-646f6f2bb6ce",
   "metadata": {},
   "outputs": [],
   "source": [
    "METRICS = [\n",
    "    tf.keras.metrics.TruePositives(name='tp'),\n",
    "    tf.keras.metrics.FalsePositives(name='fp'),\n",
    "    tf.keras.metrics.TrueNegatives(name='tn'),\n",
    "    tf.keras.metrics.FalseNegatives(name='fn'),\n",
    "    tf.keras.metrics.BinaryAccuracy(name='accuracy'),\n",
    "    tf.keras.metrics.Precision(name='precision'),\n",
    "    tf.keras.metrics.Recall(name='recall'),\n",
    "    tf.keras.metrics.AUC(name='auc'),\n",
    "    tf.keras.metrics.AUC(name='prc', curve='PR') # Precision-recall curve\n",
    "]\n",
    "\n",
    "def make_model(metrics=METRICS, output_bias=None):\n",
    "    if output_bias is not None:\n",
    "        output_bias = tf.keras.initializers.Constant(output_bias)\n",
    "    model = tf.keras.Sequential()\n",
    "    \n",
    "    # Add ResNet50 model\n",
    "    model.add(tf.keras.applications.ResNet50(include_top = False, pooling = 'avg', weights ='imagenet'))\n",
    "    \n",
    "    # Add dense layers\n",
    "    model.add(tf.keras.layers.Dense(256, activation='relu'))\n",
    "    model.add(tf.keras.layers.Dense(32, activation='relu'))\n",
    "  \n",
    "    # Add outer classification layer to model\n",
    "    model.add(tf.keras.layers.Dense(1, activation = 'sigmoid', bias_initializer=output_bias))\n",
    "  \n",
    "    # Not training the resnet on the new data set. Using the pre-trained weigths\n",
    "    model.layers[0].trainable = False \n",
    "    \n",
    "    model.compile(\n",
    "        optimizer=tf.keras.optimizers.Adam(learning_rate=1e-3),\n",
    "        loss=tf.keras.losses.BinaryCrossentropy(),\n",
    "        metrics=metrics\n",
    "    )\n",
    "    \n",
    "    return model"
   ]
  },
  {
   "cell_type": "markdown",
   "id": "40b359e2-9f63-4b12-af2f-5627e5d03105",
   "metadata": {},
   "source": [
    "### Baseline Model\n",
    "Make and train the model using the function define above"
   ]
  },
  {
   "cell_type": "code",
   "execution_count": 16,
   "id": "7a6b1cbf-5396-48f3-bdad-97e2a700d910",
   "metadata": {},
   "outputs": [
    {
     "name": "stdout",
     "output_type": "stream",
     "text": [
      "Model: \"sequential_10\"\n",
      "_________________________________________________________________\n",
      " Layer (type)                Output Shape              Param #   \n",
      "=================================================================\n",
      " resnet50 (Functional)       (None, 2048)              23587712  \n",
      "                                                                 \n",
      " dense_35 (Dense)            (None, 256)               524544    \n",
      "                                                                 \n",
      " dense_36 (Dense)            (None, 32)                8224      \n",
      "                                                                 \n",
      " dense_37 (Dense)            (None, 1)                 33        \n",
      "                                                                 \n",
      "=================================================================\n",
      "Total params: 24,120,513\n",
      "Trainable params: 532,801\n",
      "Non-trainable params: 23,587,712\n",
      "_________________________________________________________________\n"
     ]
    }
   ],
   "source": [
    "import math\n",
    "EPOCHS = 10\n",
    "BATCH_SIZE = 2048\n",
    "NUM_TRAINING_TILES = 32434\n",
    "NUM_VALID_TILES = 3880\n",
    "STEPS_PER_EPOCH = math.ceil(NUM_TRAINING_TILES / BATCH_SIZE)\n",
    "VALIDATION_STEPS = math.ceil(NUM_VALID_TILES / BATCH_SIZE)\n",
    "\n",
    "early_stopping = tf.keras.callbacks.EarlyStopping(\n",
    "    monitor='val_prc',\n",
    "    verbose=1,\n",
    "    patience=10,\n",
    "    mode='max',\n",
    "    restore_best_weights=True\n",
    ")\n",
    "\n",
    "model = make_model()\n",
    "model.summary()"
   ]
  },
  {
   "cell_type": "markdown",
   "id": "9b8cf968-9cc3-4bcc-8753-c4484a380f9a",
   "metadata": {},
   "source": [
    "Test run the model"
   ]
  },
  {
   "cell_type": "markdown",
   "id": "f9c1b9c6-0321-4829-8300-dd9f208bb08d",
   "metadata": {},
   "source": [
    "Set the correct initial bias"
   ]
  },
  {
   "cell_type": "code",
   "execution_count": 17,
   "id": "81c3df7b-bc97-447d-9240-7b4e1904fae0",
   "metadata": {},
   "outputs": [
    {
     "name": "stdout",
     "output_type": "stream",
     "text": [
      "Number of Positive Samples: 28883\n",
      "Number of Negative Samples: 3551\n",
      "Weight for class 0: 4.57\n",
      "Weight for class 1: 0.56\n"
     ]
    }
   ],
   "source": [
    "pos = 28883\n",
    "neg = 3551\n",
    "\n",
    "total = pos + neg\n",
    "print(f\"Number of Positive Samples: {pos}\\nNumber of Negative Samples: {neg}\")\n",
    "weight_for_0 = (1 / neg) * (total / 2.0)\n",
    "weight_for_1 = (1 / pos) * (total / 2.0)\n",
    "\n",
    "class_weight = {0: weight_for_0, 1: weight_for_1}\n",
    "print('Weight for class 0: {:.2f}' .format(weight_for_0))\n",
    "print('Weight for class 1: {:.2f}' .format(weight_for_1))\n",
    "\n",
    "initial_bias = np.log([pos / neg])\n",
    "initial_bias\n",
    "\n",
    "# Checkpoint the initial weights\n",
    "model = make_model(output_bias=initial_bias)\n",
    "initial_weights = os.path.join(tempfile.mkdtemp(), 'initial_weights')\n",
    "model.save_weights(initial_weights)"
   ]
  },
  {
   "cell_type": "markdown",
   "id": "0871e2d9-33d6-4071-888a-37693eab4838",
   "metadata": {},
   "source": [
    "Confirm that the bias helps"
   ]
  },
  {
   "cell_type": "code",
   "execution_count": null,
   "id": "85a3803b-7cea-4902-9e98-bb06d90090ff",
   "metadata": {},
   "outputs": [
    {
     "name": "stdout",
     "output_type": "stream",
     "text": [
      "Epoch 1/10\n"
     ]
    },
    {
     "name": "stderr",
     "output_type": "stream",
     "text": [
      "2023-07-06 14:51:15.539562: I tensorflow/core/common_runtime/executor.cc:1197] [/device:CPU:0] (DEBUG INFO) Executor start aborting (this does not indicate an error and you can ignore this message): INVALID_ARGUMENT: You must feed a value for placeholder tensor 'Placeholder/_0' with dtype int32\n",
      "\t [[{{node Placeholder/_0}}]]\n"
     ]
    },
    {
     "name": "stdout",
     "output_type": "stream",
     "text": [
      "64/64 [==============================] - ETA: 0s - loss: 0.3673 - tp: 1964.0000 - fp: 244.0000 - tn: 0.0000e+00 - fn: 0.0000e+00 - accuracy: 0.8895 - precision: 0.8895 - recall: 1.0000 - auc: 0.5667 - prc: 0.9063"
     ]
    },
    {
     "name": "stderr",
     "output_type": "stream",
     "text": [
      "2023-07-06 14:54:48.210618: I tensorflow/core/common_runtime/executor.cc:1197] [/device:CPU:0] (DEBUG INFO) Executor start aborting (this does not indicate an error and you can ignore this message): INVALID_ARGUMENT: You must feed a value for placeholder tensor 'Placeholder/_0' with dtype int32\n",
      "\t [[{{node Placeholder/_0}}]]\n"
     ]
    },
    {
     "name": "stdout",
     "output_type": "stream",
     "text": [
      "64/64 [==============================] - 234s 4s/step - loss: 0.3673 - tp: 1964.0000 - fp: 244.0000 - tn: 0.0000e+00 - fn: 0.0000e+00 - accuracy: 0.8895 - precision: 0.8895 - recall: 1.0000 - auc: 0.5667 - prc: 0.9063 - val_loss: 0.2864 - val_tp: 234.0000 - val_fp: 22.0000 - val_tn: 0.0000e+00 - val_fn: 0.0000e+00 - val_accuracy: 0.9141 - val_precision: 0.9141 - val_recall: 1.0000 - val_auc: 0.8335 - val_prc: 0.9825\n",
      "Epoch 2/10\n",
      "64/64 [==============================] - 156s 2s/step - loss: 0.3100 - tp: 1837.0000 - fp: 208.0000 - tn: 2.0000 - fn: 1.0000 - accuracy: 0.8979 - precision: 0.8983 - recall: 0.9995 - auc: 0.6492 - prc: 0.9304 - val_loss: 0.3375 - val_tp: 224.0000 - val_fp: 30.0000 - val_tn: 1.0000 - val_fn: 1.0000 - val_accuracy: 0.8789 - val_precision: 0.8819 - val_recall: 0.9956 - val_auc: 0.7615 - val_prc: 0.9568\n",
      "Epoch 3/10\n",
      "64/64 [==============================] - 216s 3s/step - loss: 0.3293 - tp: 1800.0000 - fp: 230.0000 - tn: 10.0000 - fn: 8.0000 - accuracy: 0.8838 - precision: 0.8867 - recall: 0.9956 - auc: 0.6861 - prc: 0.9321 - val_loss: 0.3631 - val_tp: 225.0000 - val_fp: 31.0000 - val_tn: 0.0000e+00 - val_fn: 0.0000e+00 - val_accuracy: 0.8789 - val_precision: 0.8789 - val_recall: 1.0000 - val_auc: 0.6872 - val_prc: 0.9249\n",
      "Epoch 4/10\n",
      "64/64 [==============================] - 148s 2s/step - loss: 0.3146 - tp: 1823.0000 - fp: 205.0000 - tn: 16.0000 - fn: 4.0000 - accuracy: 0.8979 - precision: 0.8989 - recall: 0.9978 - auc: 0.6705 - prc: 0.9357 - val_loss: 0.5207 - val_tp: 218.0000 - val_fp: 38.0000 - val_tn: 0.0000e+00 - val_fn: 0.0000e+00 - val_accuracy: 0.8516 - val_precision: 0.8516 - val_recall: 1.0000 - val_auc: 0.5181 - val_prc: 0.8399\n",
      "Epoch 5/10\n",
      "64/64 [==============================] - 133s 2s/step - loss: 0.2832 - tp: 1837.0000 - fp: 180.0000 - tn: 22.0000 - fn: 9.0000 - accuracy: 0.9077 - precision: 0.9108 - recall: 0.9951 - auc: 0.7119 - prc: 0.9485 - val_loss: 0.4270 - val_tp: 219.0000 - val_fp: 34.0000 - val_tn: 0.0000e+00 - val_fn: 3.0000 - val_accuracy: 0.8555 - val_precision: 0.8656 - val_recall: 0.9865 - val_auc: 0.4423 - val_prc: 0.8367\n",
      "Epoch 6/10\n",
      "64/64 [==============================] - 178s 3s/step - loss: 0.2834 - tp: 1814.0000 - fp: 176.0000 - tn: 35.0000 - fn: 23.0000 - accuracy: 0.9028 - precision: 0.9116 - recall: 0.9875 - auc: 0.7483 - prc: 0.9511 - val_loss: 0.5555 - val_tp: 210.0000 - val_fp: 46.0000 - val_tn: 0.0000e+00 - val_fn: 0.0000e+00 - val_accuracy: 0.8203 - val_precision: 0.8203 - val_recall: 1.0000 - val_auc: 0.5321 - val_prc: 0.8123\n",
      "Epoch 7/10\n",
      "64/64 [==============================] - 114s 2s/step - loss: 0.3153 - tp: 1825.0000 - fp: 202.0000 - tn: 16.0000 - fn: 5.0000 - accuracy: 0.8989 - precision: 0.9003 - recall: 0.9973 - auc: 0.6900 - prc: 0.9413 - val_loss: 0.3735 - val_tp: 223.0000 - val_fp: 32.0000 - val_tn: 1.0000 - val_fn: 0.0000e+00 - val_accuracy: 0.8750 - val_precision: 0.8745 - val_recall: 1.0000 - val_auc: 0.6715 - val_prc: 0.9210\n",
      "Epoch 8/10\n",
      "64/64 [==============================] - 106s 2s/step - loss: 0.3030 - tp: 1806.0000 - fp: 196.0000 - tn: 21.0000 - fn: 11.0000 - accuracy: 0.8982 - precision: 0.9021 - recall: 0.9939 - auc: 0.7160 - prc: 0.9399 - val_loss: 0.4333 - val_tp: 216.0000 - val_fp: 39.0000 - val_tn: 0.0000e+00 - val_fn: 1.0000 - val_accuracy: 0.8438 - val_precision: 0.8471 - val_recall: 0.9954 - val_auc: 0.5902 - val_prc: 0.8652\n",
      "Epoch 9/10\n",
      "64/64 [==============================] - 92s 1s/step - loss: 0.2937 - tp: 1819.0000 - fp: 197.0000 - tn: 23.0000 - fn: 9.0000 - accuracy: 0.8994 - precision: 0.9023 - recall: 0.9951 - auc: 0.7488 - prc: 0.9533 - val_loss: 0.3957 - val_tp: 217.0000 - val_fp: 31.0000 - val_tn: 0.0000e+00 - val_fn: 8.0000 - val_accuracy: 0.8477 - val_precision: 0.8750 - val_recall: 0.9644 - val_auc: 0.5757 - val_prc: 0.8914\n",
      "Epoch 10/10\n",
      "64/64 [==============================] - 187s 3s/step - loss: 0.3044 - tp: 1793.0000 - fp: 203.0000 - tn: 32.0000 - fn: 20.0000 - accuracy: 0.8911 - precision: 0.8983 - recall: 0.9890 - auc: 0.7594 - prc: 0.9518 - val_loss: 0.3808 - val_tp: 222.0000 - val_fp: 28.0000 - val_tn: 0.0000e+00 - val_fn: 6.0000 - val_accuracy: 0.8672 - val_precision: 0.8880 - val_recall: 0.9737 - val_auc: 0.5507 - val_prc: 0.8960\n",
      "Epoch 1/10\n"
     ]
    },
    {
     "name": "stderr",
     "output_type": "stream",
     "text": [
      "2023-07-06 15:23:02.152736: I tensorflow/core/common_runtime/executor.cc:1197] [/device:CPU:0] (DEBUG INFO) Executor start aborting (this does not indicate an error and you can ignore this message): INVALID_ARGUMENT: You must feed a value for placeholder tensor 'Placeholder/_0' with dtype int32\n",
      "\t [[{{node Placeholder/_0}}]]\n"
     ]
    },
    {
     "name": "stdout",
     "output_type": "stream",
     "text": [
      "64/64 [==============================] - ETA: 0s - loss: 0.3656 - tp: 2020.0000 - fp: 261.0000 - tn: 3.0000 - fn: 20.0000 - accuracy: 0.8780 - precision: 0.8856 - recall: 0.9902 - auc: 0.5653 - prc: 0.8963"
     ]
    },
    {
     "name": "stderr",
     "output_type": "stream",
     "text": [
      "2023-07-06 15:24:32.380019: I tensorflow/core/common_runtime/executor.cc:1197] [/device:CPU:0] (DEBUG INFO) Executor start aborting (this does not indicate an error and you can ignore this message): INVALID_ARGUMENT: You must feed a value for placeholder tensor 'Placeholder/_0' with dtype int32\n",
      "\t [[{{node Placeholder/_0}}]]\n"
     ]
    },
    {
     "name": "stdout",
     "output_type": "stream",
     "text": [
      "64/64 [==============================] - 102s 2s/step - loss: 0.3656 - tp: 2020.0000 - fp: 261.0000 - tn: 3.0000 - fn: 20.0000 - accuracy: 0.8780 - precision: 0.8856 - recall: 0.9902 - auc: 0.5653 - prc: 0.8963 - val_loss: 0.4275 - val_tp: 220.0000 - val_fp: 36.0000 - val_tn: 0.0000e+00 - val_fn: 0.0000e+00 - val_accuracy: 0.8594 - val_precision: 0.8594 - val_recall: 1.0000 - val_auc: 0.7881 - val_prc: 0.9610\n",
      "Epoch 2/10\n",
      "64/64 [==============================] - 78s 1s/step - loss: 0.3071 - tp: 1837.0000 - fp: 204.0000 - tn: 2.0000 - fn: 5.0000 - accuracy: 0.8979 - precision: 0.9000 - recall: 0.9973 - auc: 0.6549 - prc: 0.9336 - val_loss: 0.3823 - val_tp: 222.0000 - val_fp: 34.0000 - val_tn: 0.0000e+00 - val_fn: 0.0000e+00 - val_accuracy: 0.8672 - val_precision: 0.8672 - val_recall: 1.0000 - val_auc: 0.6692 - val_prc: 0.9212\n",
      "Epoch 3/10\n",
      "64/64 [==============================] - 79s 1s/step - loss: 0.3097 - tp: 1822.0000 - fp: 211.0000 - tn: 8.0000 - fn: 7.0000 - accuracy: 0.8936 - precision: 0.8962 - recall: 0.9962 - auc: 0.6801 - prc: 0.9374 - val_loss: 0.3877 - val_tp: 223.0000 - val_fp: 33.0000 - val_tn: 0.0000e+00 - val_fn: 0.0000e+00 - val_accuracy: 0.8711 - val_precision: 0.8711 - val_recall: 1.0000 - val_auc: 0.5813 - val_prc: 0.8729\n",
      "Epoch 4/10\n",
      "64/64 [==============================] - 67s 1s/step - loss: 0.3147 - tp: 1809.0000 - fp: 201.0000 - tn: 29.0000 - fn: 9.0000 - accuracy: 0.8975 - precision: 0.9000 - recall: 0.9950 - auc: 0.7001 - prc: 0.9397 - val_loss: 0.3981 - val_tp: 222.0000 - val_fp: 34.0000 - val_tn: 0.0000e+00 - val_fn: 0.0000e+00 - val_accuracy: 0.8672 - val_precision: 0.8672 - val_recall: 1.0000 - val_auc: 0.5913 - val_prc: 0.8819\n",
      "Epoch 5/10\n",
      "64/64 [==============================] - 143s 2s/step - loss: 0.3190 - tp: 1786.0000 - fp: 209.0000 - tn: 34.0000 - fn: 19.0000 - accuracy: 0.8887 - precision: 0.8952 - recall: 0.9895 - auc: 0.7147 - prc: 0.9359 - val_loss: 0.3971 - val_tp: 214.0000 - val_fp: 35.0000 - val_tn: 0.0000e+00 - val_fn: 7.0000 - val_accuracy: 0.8359 - val_precision: 0.8594 - val_recall: 0.9683 - val_auc: 0.6367 - val_prc: 0.8638\n",
      "Epoch 6/10\n",
      "64/64 [==============================] - 115s 2s/step - loss: 0.3046 - tp: 1812.0000 - fp: 195.0000 - tn: 22.0000 - fn: 19.0000 - accuracy: 0.8955 - precision: 0.9028 - recall: 0.9896 - auc: 0.7188 - prc: 0.9463 - val_loss: 0.3744 - val_tp: 219.0000 - val_fp: 33.0000 - val_tn: 1.0000 - val_fn: 3.0000 - val_accuracy: 0.8594 - val_precision: 0.8690 - val_recall: 0.9865 - val_auc: 0.6587 - val_prc: 0.9072\n"
     ]
    }
   ],
   "source": [
    "# Zero bias model\n",
    "model = make_model()\n",
    "model.load_weights(initial_weights)\n",
    "model.layers[-1].bias.assign([0.0])\n",
    "zero_bias_history = model.fit(\n",
    "    train_ds,\n",
    "    batch_size=BATCH_SIZE,\n",
    "    epochs=EPOCHS,\n",
    "    steps_per_epoch=STEPS_PER_EPOCH,\n",
    "    validation_data=valid_ds,\n",
    "    validation_steps=VALIDATION_STEPS,\n",
    "    verbose=1\n",
    ")\n",
    "\n",
    "# Bias model\n",
    "model = make_model()\n",
    "model.load_weights(initial_weights)\n",
    "careful_bias_history = model.fit(\n",
    "    train_ds,\n",
    "    batch_size=BATCH_SIZE,\n",
    "    epochs=EPOCHS,\n",
    "    steps_per_epoch=STEPS_PER_EPOCH,\n",
    "    validation_data=valid_ds,\n",
    "    validation_steps=VALIDATION_STEPS,\n",
    "    verbose=1\n",
    ")\n",
    "\n",
    "colors = ['violet', 'mediumspringgreen']\n",
    "\n",
    "def plot_loss(history, label, n):\n",
    "    # Use a log scale on y-axis to show the wide range of values\n",
    "    plt.semilogy(history.epoch, history.history['loss'], color=colors[n], label=f\"Train {label}\")\n",
    "    plt.semilogy(history.epoch, history.history['val_loss'], color=colors[n], label=f\"Val {label}\", linestyle=\"--\")\n",
    "    plt.xlabel('Epoch')\n",
    "    plt.ylabel('Loss')\n",
    "    \n",
    "plot_loss(zero_bias_history, 'Zero Bias', 0)\n",
    "plot_loss(careful_bias_history, 'Careful Bias', 1)"
   ]
  },
  {
   "cell_type": "markdown",
   "id": "7cd23f90-0b8e-4d82-bb14-e7a8028fd659",
   "metadata": {},
   "source": [
    "### Train the Model"
   ]
  },
  {
   "cell_type": "code",
   "execution_count": 18,
   "id": "7148865f-d6de-4cb7-9eed-4ec3805278fd",
   "metadata": {},
   "outputs": [
    {
     "name": "stdout",
     "output_type": "stream",
     "text": [
      "Epoch 1/10\n"
     ]
    },
    {
     "name": "stderr",
     "output_type": "stream",
     "text": [
      "2023-07-10 10:39:24.668140: I tensorflow/core/common_runtime/executor.cc:1197] [/device:CPU:0] (DEBUG INFO) Executor start aborting (this does not indicate an error and you can ignore this message): INVALID_ARGUMENT: You must feed a value for placeholder tensor 'Placeholder/_0' with dtype int32\n",
      "\t [[{{node Placeholder/_0}}]]\n"
     ]
    },
    {
     "name": "stdout",
     "output_type": "stream",
     "text": [
      "16/16 [==============================] - ETA: 0s - loss: 0.7683 - tp: 244.0000 - fp: 31.0000 - tn: 42.0000 - fn: 323.0000 - accuracy: 0.4469 - precision: 0.8873 - recall: 0.4303 - auc: 0.5352 - prc: 0.8812 "
     ]
    },
    {
     "name": "stderr",
     "output_type": "stream",
     "text": [
      "2023-07-10 10:43:56.179157: I tensorflow/core/common_runtime/executor.cc:1197] [/device:CPU:0] (DEBUG INFO) Executor start aborting (this does not indicate an error and you can ignore this message): INVALID_ARGUMENT: You must feed a value for placeholder tensor 'Placeholder/_0' with dtype int32\n",
      "\t [[{{node Placeholder/_0}}]]\n"
     ]
    },
    {
     "name": "stdout",
     "output_type": "stream",
     "text": [
      "16/16 [==============================] - 315s 20s/step - loss: 0.7683 - tp: 244.0000 - fp: 31.0000 - tn: 42.0000 - fn: 323.0000 - accuracy: 0.4469 - precision: 0.8873 - recall: 0.4303 - auc: 0.5352 - prc: 0.8812 - val_loss: 1.1563 - val_tp: 0.0000e+00 - val_fp: 0.0000e+00 - val_tn: 7.0000 - val_fn: 57.0000 - val_accuracy: 0.1094 - val_precision: 0.0000e+00 - val_recall: 0.0000e+00 - val_auc: 0.7632 - val_prc: 0.9605\n",
      "Epoch 2/10\n",
      "16/16 [==============================] - 290s 18s/step - loss: 0.6350 - tp: 315.0000 - fp: 25.0000 - tn: 19.0000 - fn: 153.0000 - accuracy: 0.6523 - precision: 0.9265 - recall: 0.6731 - auc: 0.5946 - prc: 0.9352 - val_loss: 1.0360 - val_tp: 0.0000e+00 - val_fp: 0.0000e+00 - val_tn: 10.0000 - val_fn: 54.0000 - val_accuracy: 0.1562 - val_precision: 0.0000e+00 - val_recall: 0.0000e+00 - val_auc: 0.7472 - val_prc: 0.9408\n",
      "Epoch 3/10\n",
      "16/16 [==============================] - 318s 19s/step - loss: 0.6932 - tp: 229.0000 - fp: 20.0000 - tn: 36.0000 - fn: 227.0000 - accuracy: 0.5176 - precision: 0.9197 - recall: 0.5022 - auc: 0.6192 - prc: 0.9176 - val_loss: 1.0304 - val_tp: 3.0000 - val_fp: 0.0000e+00 - val_tn: 8.0000 - val_fn: 53.0000 - val_accuracy: 0.1719 - val_precision: 1.0000 - val_recall: 0.0536 - val_auc: 0.8382 - val_prc: 0.9740\n",
      "Epoch 4/10\n",
      "16/16 [==============================] - 330s 21s/step - loss: 0.6483 - tp: 303.0000 - fp: 23.0000 - tn: 31.0000 - fn: 155.0000 - accuracy: 0.6523 - precision: 0.9294 - recall: 0.6616 - auc: 0.6483 - prc: 0.9256 - val_loss: 0.5630 - val_tp: 48.0000 - val_fp: 3.0000 - val_tn: 3.0000 - val_fn: 10.0000 - val_accuracy: 0.7969 - val_precision: 0.9412 - val_recall: 0.8276 - val_auc: 0.8204 - val_prc: 0.9802\n",
      "Epoch 5/10\n",
      "16/16 [==============================] - 308s 20s/step - loss: 0.6876 - tp: 309.0000 - fp: 29.0000 - tn: 25.0000 - fn: 149.0000 - accuracy: 0.6523 - precision: 0.9142 - recall: 0.6747 - auc: 0.5721 - prc: 0.8977 - val_loss: 0.6229 - val_tp: 41.0000 - val_fp: 2.0000 - val_tn: 6.0000 - val_fn: 15.0000 - val_accuracy: 0.7344 - val_precision: 0.9535 - val_recall: 0.7321 - val_auc: 0.8281 - val_prc: 0.9693\n",
      "Epoch 6/10\n",
      "16/16 [==============================] - 303s 19s/step - loss: 0.6635 - tp: 308.0000 - fp: 29.0000 - tn: 28.0000 - fn: 147.0000 - accuracy: 0.6562 - precision: 0.9139 - recall: 0.6769 - auc: 0.6126 - prc: 0.9132 - val_loss: 0.5337 - val_tp: 49.0000 - val_fp: 5.0000 - val_tn: 3.0000 - val_fn: 7.0000 - val_accuracy: 0.8125 - val_precision: 0.9074 - val_recall: 0.8750 - val_auc: 0.7377 - val_prc: 0.9482\n",
      "Epoch 7/10\n",
      "16/16 [==============================] - 267s 17s/step - loss: 0.7275 - tp: 226.0000 - fp: 22.0000 - tn: 43.0000 - fn: 221.0000 - accuracy: 0.5254 - precision: 0.9113 - recall: 0.5056 - auc: 0.6266 - prc: 0.9095 - val_loss: 0.8313 - val_tp: 13.0000 - val_fp: 3.0000 - val_tn: 2.0000 - val_fn: 46.0000 - val_accuracy: 0.2344 - val_precision: 0.8125 - val_recall: 0.2203 - val_auc: 0.3119 - val_prc: 0.8931\n",
      "Epoch 8/10\n",
      "16/16 [==============================] - 267s 17s/step - loss: 0.7062 - tp: 282.0000 - fp: 29.0000 - tn: 20.0000 - fn: 181.0000 - accuracy: 0.5898 - precision: 0.9068 - recall: 0.6091 - auc: 0.5537 - prc: 0.9229 - val_loss: 0.9252 - val_tp: 0.0000e+00 - val_fp: 0.0000e+00 - val_tn: 8.0000 - val_fn: 56.0000 - val_accuracy: 0.1250 - val_precision: 0.0000e+00 - val_recall: 0.0000e+00 - val_auc: 0.5458 - val_prc: 0.8669\n",
      "Epoch 9/10\n",
      "16/16 [==============================] - 244s 15s/step - loss: 0.6386 - tp: 375.0000 - fp: 36.0000 - tn: 17.0000 - fn: 84.0000 - accuracy: 0.7656 - precision: 0.9124 - recall: 0.8170 - auc: 0.6663 - prc: 0.9424 - val_loss: 0.8478 - val_tp: 8.0000 - val_fp: 0.0000e+00 - val_tn: 11.0000 - val_fn: 45.0000 - val_accuracy: 0.2969 - val_precision: 1.0000 - val_recall: 0.1509 - val_auc: 0.5455 - val_prc: 0.8682\n",
      "Epoch 10/10\n",
      "16/16 [==============================] - 270s 17s/step - loss: 0.7235 - tp: 111.0000 - fp: 10.0000 - tn: 60.0000 - fn: 331.0000 - accuracy: 0.3340 - precision: 0.9174 - recall: 0.2511 - auc: 0.6512 - prc: 0.9045 - val_loss: 0.6521 - val_tp: 41.0000 - val_fp: 3.0000 - val_tn: 5.0000 - val_fn: 15.0000 - val_accuracy: 0.7188 - val_precision: 0.9318 - val_recall: 0.7321 - val_auc: 0.7377 - val_prc: 0.9587\n"
     ]
    }
   ],
   "source": [
    "model = make_model()\n",
    "model.load_weights(initial_weights)\n",
    "baseline_history = model.fit(\n",
    "    train_ds,\n",
    "    batch_size=BATCH_SIZE,\n",
    "    epochs=EPOCHS,\n",
    "    steps_per_epoch=STEPS_PER_EPOCH,\n",
    "    callbacks=[early_stopping],\n",
    "    validation_data=valid_ds,\n",
    "    validation_steps=VALIDATION_STEPS,\n",
    "    class_weight=class_weight\n",
    ")\n",
    "model.save_weights('../model/weights/tl-2023-07-06_weights.h5')"
   ]
  },
  {
   "cell_type": "markdown",
   "id": "c831e5e5-27b3-4b9e-a6cc-a367db577178",
   "metadata": {},
   "source": [
    "### Check Training History\n",
    "Make a plot of the model's accuracy and loss on the training and validation set"
   ]
  },
  {
   "cell_type": "code",
   "execution_count": 19,
   "id": "f8f7ffed-32b1-471c-9d6c-497e2f39c649",
   "metadata": {},
   "outputs": [
    {
     "data": {
      "image/png": "[encoded data removed]",
      "text/plain": [
       "<Figure size 640x480 with 4 Axes>"
      ]
     },
     "metadata": {},
     "output_type": "display_data"
    }
   ],
   "source": [
    "colors = ['violet', 'mediumspringgreen']\n",
    "def plot_metrics(history):\n",
    "  metrics = ['loss', 'prc', 'precision', 'recall']\n",
    "  for n, metric in enumerate(metrics):\n",
    "    name = metric.replace(\"_\",\" \").capitalize()\n",
    "    plt.subplot(2,2,n+1)\n",
    "    plt.plot(history.epoch, history.history[metric], color=colors[0], label='Train')\n",
    "    plt.plot(history.epoch, history.history['val_'+metric],\n",
    "             color=colors[0], linestyle=\"--\", label='Val')\n",
    "    plt.xlabel('Epoch')\n",
    "    plt.ylabel(name)\n",
    "    if metric == 'loss':\n",
    "      plt.ylim([0, plt.ylim()[1]])\n",
    "    elif metric == 'auc':\n",
    "      plt.ylim([0.8,1])\n",
    "    else:\n",
    "      plt.ylim([0,1])\n",
    "\n",
    "    plt.legend()\n",
    "    plt.tight_layout()\n",
    "    \n",
    "plot_metrics(baseline_history)\n",
    "plt.savefig('../img/plot_metrics.pdf')"
   ]
  },
  {
   "cell_type": "code",
   "execution_count": 21,
   "id": "eed50132-356f-4324-ac5f-0758085527a9",
   "metadata": {},
   "outputs": [
    {
     "name": "stderr",
     "output_type": "stream",
     "text": [
      "2023-07-10 12:23:27.699060: I tensorflow/core/common_runtime/executor.cc:1197] [/device:CPU:0] (DEBUG INFO) Executor start aborting (this does not indicate an error and you can ignore this message): INVALID_ARGUMENT: You must feed a value for placeholder tensor 'Placeholder/_0' with dtype int32\n",
      "\t [[{{node Placeholder/_0}}]]\n"
     ]
    },
    {
     "name": "stdout",
     "output_type": "stream",
     "text": [
      "200/200 [==============================] - 2884s 14s/step\n"
     ]
    },
    {
     "name": "stderr",
     "output_type": "stream",
     "text": [
      "2023-07-10 13:12:00.648318: I tensorflow/core/common_runtime/executor.cc:1197] [/device:CPU:0] (DEBUG INFO) Executor start aborting (this does not indicate an error and you can ignore this message): INVALID_ARGUMENT: You must feed a value for placeholder tensor 'Placeholder/_0' with dtype int32\n",
      "\t [[{{node Placeholder/_0}}]]\n"
     ]
    },
    {
     "name": "stdout",
     "output_type": "stream",
     "text": [
      "20/20 [==============================] - 223s 11s/step\n"
     ]
    }
   ],
   "source": [
    "# Evaluate metrics\n",
    "train_predictions_baseline = model.predict(train_ds, batch_size=BATCH_SIZE, steps=200)\n",
    "test_predictions_baseline = model.predict(test_ds, batch_size=BATCH_SIZE, steps=20)"
   ]
  },
  {
   "cell_type": "code",
   "execution_count": null,
   "id": "b1405085-3b79-4a32-a02e-fd9275e6cb88",
   "metadata": {},
   "outputs": [],
   "source": [
    "# Get training and testing labels\n",
    "def extract_labels(ds):\n",
    "  labels = []\n",
    "  num_batches = len(ds)\n",
    "  for batch_idx in range(num_batches):\n",
    "    _, batch_labels = ds[batch_idx]\n",
    "    labels.extend(batch_labels)\n",
    "  \n",
    "  labels = np.array(labels)\n",
    "  return labels \n",
    "\n",
    "train_labels = extract_labels(train_ds)\n",
    "test_labels = extract_labels(test_ds)"
   ]
  },
  {
   "cell_type": "code",
   "execution_count": null,
   "id": "cf7ce003-8538-4dd6-a32f-5521a1f45d93",
   "metadata": {},
   "outputs": [],
   "source": [
    "def plot_roc(name, labels, predictions, **kwargs):\n",
    "    fp, tp, _ = sklearn.metrics.roc_curve(labels, predictions)\n",
    "    \n",
    "    plt.plot(100*fp, 100*tp, label=name, linewidth=2, **kwargs)\n",
    "    plt.xlabel('False positives [%]')\n",
    "    plt.ylabel('True positives [%]')\n",
    "    plt.xlim([-0.5, 20])\n",
    "    plt.ylim([20, 100.5])\n",
    "    plt.grid(True)\n",
    "    ax = plt.gca()\n",
    "    ax.set_aspect('equal')\n",
    "    \n",
    "plot_roc(\"Train Baseline\", train_labels, train_predictions_baseline, color=colors[0])\n",
    "plot_roc(\"Test Baseline\", test_labels, test_predictions_baseline, color=colors[0], linestyle='--')\n",
    "plt.legend(loc='lower right');"
   ]
  }
 ],
 "metadata": {
  "kernelspec": {
   "display_name": "Python (.venv)",
   "language": "python",
   "name": ".venv"
  },
  "language_info": {
   "codemirror_mode": {
    "name": "ipython",
    "version": 3
   },
   "file_extension": ".py",
   "mimetype": "text/x-python",
   "name": "python",
   "nbconvert_exporter": "python",
   "pygments_lexer": "ipython3",
   "version": "3.10.2"
  }
 },
 "nbformat": 4,
 "nbformat_minor": 5
}
