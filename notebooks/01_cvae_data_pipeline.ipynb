{
 "cells": [
  {
   "cell_type": "code",
   "execution_count": 13,
   "id": "69e1f85a-63ad-4e25-b025-d146bc38ddb6",
   "metadata": {},
   "outputs": [],
   "source": [
    "import numpy as np\n",
    "import tensorflow as tf\n",
    "from PIL import ImageFile\n",
    "from PIL import Image\n",
    "import PIL\n",
    "from os import listdir, remove, environ\n",
    "from os.path import join, isdir"
   ]
  },
  {
   "cell_type": "code",
   "execution_count": 14,
   "id": "3e671438-dd58-40ad-a1d7-edda45b25442",
   "metadata": {},
   "outputs": [],
   "source": [
    "## Global variables\n",
    "BATCH_SIZE = 64\n",
    "IMG_SIZE = 224\n",
    "ERR_FILE = '../outputs/CK7/test/corrupt_images.txt'\n",
    "AUTOTUNE = tf.data.AUTOTUNE\n",
    "\n",
    "# tf.compat.v1.enable_eager_execution()\n",
    "# tf.compat.v1.disable_eager_execution()\n",
    "ImageFile.LOAD_TRUNCATED_IMAGES = True\n",
    "\n",
    "environ['TF_CPP_MIN_LOG_LEVEL'] = '3'"
   ]
  },
  {
   "cell_type": "code",
   "execution_count": 19,
   "id": "a64919b4-e3c9-4b43-8940-f0ebcaec897c",
   "metadata": {},
   "outputs": [],
   "source": [
    "def clean_directory(clean_dir):\n",
    "    for file in listdir(clean_dir):\n",
    "        try:\n",
    "            _ = Image.open(join(clean_dir, file))\n",
    "        except PIL.UnidentifiedImageError:\n",
    "            with open(ERR_FILE, 'a') as err:\n",
    "                err.write(f'{join(clean_dir, file)} is corrupt and has been removed' + \"\\n\")\n",
    "            remove(join(clean_dir, file))\n",
    "\n",
    "def make_dataset(dir_path, img_size=(IMG_SIZE, IMG_SIZE), shuffle=True):\n",
    "    return tf.keras.utils.image_dataset_from_directory(\n",
    "        dir_path,\n",
    "        labels=None,\n",
    "        label_mode=None,\n",
    "        batch_size=None,\n",
    "        image_size=img_size,\n",
    "        shuffle=shuffle\n",
    "    )\n",
    "\n",
    "def make_dataset_from_root(root_dir):\n",
    "    datasets =[]\n",
    "    for file in listdir(root_dir):\n",
    "        if isdir(join(root_dir, file)):\n",
    "            for mag in listdir(join(root_dir, file)):\n",
    "                clean_directory(join(root_dir, file, mag))\n",
    "                ds = make_dataset(join(root_dir, file, mag))\n",
    "                datasets.append(ds)\n",
    "                \n",
    "    return tf.data.Dataset.zip(datasets)\n",
    "        \n",
    "def normalize_image(image):\n",
    "    return tf.cast(image, tf.float32) / 255.0"
   ]
  },
  {
   "cell_type": "code",
   "execution_count": 20,
   "id": "6628d97e-27e5-41f1-8f94-df35a5f35d12",
   "metadata": {},
   "outputs": [
    {
     "name": "stdout",
     "output_type": "stream",
     "text": [
      "Found 358 files belonging to 1 classes.\n",
      "Found 1037 files belonging to 1 classes.\n"
     ]
    },
    {
     "ename": "KeyboardInterrupt",
     "evalue": "",
     "output_type": "error",
     "traceback": [
      "\u001b[0;31m---------------------------------------------------------------------------\u001b[0m",
      "\u001b[0;31mKeyboardInterrupt\u001b[0m                         Traceback (most recent call last)",
      "Cell \u001b[0;32mIn[20], line 3\u001b[0m\n\u001b[1;32m      1\u001b[0m dir_path \u001b[38;5;241m=\u001b[39m \u001b[38;5;124m'\u001b[39m\u001b[38;5;124m../outputs/CK7/test\u001b[39m\u001b[38;5;124m'\u001b[39m\n\u001b[0;32m----> 3\u001b[0m dataset \u001b[38;5;241m=\u001b[39m \u001b[43mmake_dataset_from_root\u001b[49m\u001b[43m(\u001b[49m\u001b[43mdir_path\u001b[49m\u001b[43m)\u001b[49m\n",
      "Cell \u001b[0;32mIn[19], line 25\u001b[0m, in \u001b[0;36mmake_dataset_from_root\u001b[0;34m(root_dir)\u001b[0m\n\u001b[1;32m     23\u001b[0m \u001b[38;5;28;01mif\u001b[39;00m isdir(join(root_dir, file)):\n\u001b[1;32m     24\u001b[0m     \u001b[38;5;28;01mfor\u001b[39;00m mag \u001b[38;5;129;01min\u001b[39;00m listdir(join(root_dir, file)):\n\u001b[0;32m---> 25\u001b[0m         \u001b[43mclean_directory\u001b[49m\u001b[43m(\u001b[49m\u001b[43mjoin\u001b[49m\u001b[43m(\u001b[49m\u001b[43mroot_dir\u001b[49m\u001b[43m,\u001b[49m\u001b[43m \u001b[49m\u001b[43mfile\u001b[49m\u001b[43m,\u001b[49m\u001b[43m \u001b[49m\u001b[43mmag\u001b[49m\u001b[43m)\u001b[49m\u001b[43m)\u001b[49m\n\u001b[1;32m     26\u001b[0m         ds \u001b[38;5;241m=\u001b[39m make_dataset(join(root_dir, file, mag))\n\u001b[1;32m     27\u001b[0m         datasets\u001b[38;5;241m.\u001b[39mappend(ds)\n",
      "Cell \u001b[0;32mIn[19], line 4\u001b[0m, in \u001b[0;36mclean_directory\u001b[0;34m(clean_dir)\u001b[0m\n\u001b[1;32m      2\u001b[0m \u001b[38;5;28;01mfor\u001b[39;00m file \u001b[38;5;129;01min\u001b[39;00m listdir(clean_dir):\n\u001b[1;32m      3\u001b[0m     \u001b[38;5;28;01mtry\u001b[39;00m:\n\u001b[0;32m----> 4\u001b[0m         _ \u001b[38;5;241m=\u001b[39m \u001b[43mImage\u001b[49m\u001b[38;5;241;43m.\u001b[39;49m\u001b[43mopen\u001b[49m\u001b[43m(\u001b[49m\u001b[43mjoin\u001b[49m\u001b[43m(\u001b[49m\u001b[43mclean_dir\u001b[49m\u001b[43m,\u001b[49m\u001b[43m \u001b[49m\u001b[43mfile\u001b[49m\u001b[43m)\u001b[49m\u001b[43m)\u001b[49m\n\u001b[1;32m      5\u001b[0m     \u001b[38;5;28;01mexcept\u001b[39;00m PIL\u001b[38;5;241m.\u001b[39mUnidentifiedImageError:\n\u001b[1;32m      6\u001b[0m         \u001b[38;5;28;01mwith\u001b[39;00m \u001b[38;5;28mopen\u001b[39m(ERR_FILE, \u001b[38;5;124m'\u001b[39m\u001b[38;5;124ma\u001b[39m\u001b[38;5;124m'\u001b[39m) \u001b[38;5;28;01mas\u001b[39;00m err:\n",
      "File \u001b[0;32m/project/6069023/jhowe4/TissueTango/test/.venv/lib/python3.10/site-packages/PIL/Image.py:3245\u001b[0m, in \u001b[0;36mopen\u001b[0;34m(fp, mode, formats)\u001b[0m\n\u001b[1;32m   3242\u001b[0m     fp \u001b[38;5;241m=\u001b[39m io\u001b[38;5;241m.\u001b[39mBytesIO(fp\u001b[38;5;241m.\u001b[39mread())\n\u001b[1;32m   3243\u001b[0m     exclusive_fp \u001b[38;5;241m=\u001b[39m \u001b[38;5;28;01mTrue\u001b[39;00m\n\u001b[0;32m-> 3245\u001b[0m prefix \u001b[38;5;241m=\u001b[39m \u001b[43mfp\u001b[49m\u001b[38;5;241;43m.\u001b[39;49m\u001b[43mread\u001b[49m\u001b[43m(\u001b[49m\u001b[38;5;241;43m16\u001b[39;49m\u001b[43m)\u001b[49m\n\u001b[1;32m   3247\u001b[0m preinit()\n\u001b[1;32m   3249\u001b[0m accept_warnings \u001b[38;5;241m=\u001b[39m []\n",
      "\u001b[0;31mKeyboardInterrupt\u001b[0m: "
     ]
    }
   ],
   "source": [
    "dir_path = '../outputs/CK7/test'\n",
    "\n",
    "dataset = make_dataset_from_root(dir_path)"
   ]
  },
  {
   "cell_type": "code",
   "execution_count": 5,
   "id": "a78a214d-fd25-45ca-b977-4d1b04f6491b",
   "metadata": {},
   "outputs": [
    {
     "data": {
      "text/plain": [
       "1040"
      ]
     },
     "execution_count": 5,
     "metadata": {},
     "output_type": "execute_result"
    }
   ],
   "source": [
    "len(dataset)"
   ]
  },
  {
   "cell_type": "code",
   "execution_count": 6,
   "id": "974b73b1-9574-4796-a60c-5963312dc66a",
   "metadata": {},
   "outputs": [
    {
     "name": "stderr",
     "output_type": "stream",
     "text": [
      "2023-07-12 12:05:35.131332: I tensorflow/core/common_runtime/executor.cc:1197] [/device:CPU:0] (DEBUG INFO) Executor start aborting (this does not indicate an error and you can ignore this message): INVALID_ARGUMENT: You must feed a value for placeholder tensor 'Placeholder/_0' with dtype string and shape [1040]\n",
      "\t [[{{node Placeholder/_0}}]]\n",
      "2023-07-12 12:05:35.145175: I tensorflow/core/common_runtime/executor.cc:1197] [/device:CPU:0] (DEBUG INFO) Executor start aborting (this does not indicate an error and you can ignore this message): INVALID_ARGUMENT: You must feed a value for placeholder tensor 'Placeholder/_0' with dtype string and shape [1040]\n",
      "\t [[{{node Placeholder/_0}}]]\n"
     ]
    },
    {
     "name": "stdout",
     "output_type": "stream",
     "text": [
      "(224, 224, 3)\n"
     ]
    }
   ],
   "source": [
    "for img in dataset:\n",
    "    print(img.numpy().shape)\n",
    "    break"
   ]
  },
  {
   "cell_type": "code",
   "execution_count": 7,
   "id": "21bf0a50-3d51-40a4-ac91-3043246de0da",
   "metadata": {},
   "outputs": [
    {
     "data": {
      "text/plain": [
       "<_ParallelMapDataset element_spec=TensorSpec(shape=(224, 224, 3), dtype=tf.float32, name=None)>"
      ]
     },
     "execution_count": 7,
     "metadata": {},
     "output_type": "execute_result"
    }
   ],
   "source": [
    "dataset = dataset.map(normalize_image, num_parallel_calls=AUTOTUNE)\n",
    "dataset"
   ]
  },
  {
   "cell_type": "code",
   "execution_count": 8,
   "id": "800d69a0-78a6-463f-b1b0-c0f2a586342d",
   "metadata": {},
   "outputs": [
    {
     "name": "stderr",
     "output_type": "stream",
     "text": [
      "2023-07-12 12:05:41.121748: I tensorflow/core/common_runtime/executor.cc:1197] [/device:CPU:0] (DEBUG INFO) Executor start aborting (this does not indicate an error and you can ignore this message): INVALID_ARGUMENT: You must feed a value for placeholder tensor 'Placeholder/_0' with dtype string and shape [1040]\n",
      "\t [[{{node Placeholder/_0}}]]\n",
      "2023-07-12 12:05:41.123530: I tensorflow/core/common_runtime/executor.cc:1197] [/device:CPU:0] (DEBUG INFO) Executor start aborting (this does not indicate an error and you can ignore this message): INVALID_ARGUMENT: You must feed a value for placeholder tensor 'Placeholder/_0' with dtype string and shape [1040]\n",
      "\t [[{{node Placeholder/_0}}]]\n"
     ]
    },
    {
     "name": "stdout",
     "output_type": "stream",
     "text": [
      "(224, 224, 3)\n"
     ]
    }
   ],
   "source": [
    "for img in dataset:\n",
    "    print(img.numpy().shape)\n",
    "    break"
   ]
  },
  {
   "cell_type": "code",
   "execution_count": 9,
   "id": "702bfe2a-ac4c-4dd4-b26a-801c4181b0df",
   "metadata": {},
   "outputs": [
    {
     "data": {
      "text/plain": [
       "<CacheDataset element_spec=TensorSpec(shape=(224, 224, 3), dtype=tf.float32, name=None)>"
      ]
     },
     "execution_count": 9,
     "metadata": {},
     "output_type": "execute_result"
    }
   ],
   "source": [
    "dataset = dataset.cache()\n",
    "dataset"
   ]
  },
  {
   "cell_type": "code",
   "execution_count": 10,
   "id": "ff8b7219-7b5f-41dd-97ee-3545ccbdf351",
   "metadata": {},
   "outputs": [
    {
     "name": "stderr",
     "output_type": "stream",
     "text": [
      "2023-07-12 12:05:46.495321: I tensorflow/core/common_runtime/executor.cc:1197] [/device:CPU:0] (DEBUG INFO) Executor start aborting (this does not indicate an error and you can ignore this message): INVALID_ARGUMENT: You must feed a value for placeholder tensor 'Placeholder/_0' with dtype string and shape [1040]\n",
      "\t [[{{node Placeholder/_0}}]]\n",
      "2023-07-12 12:05:46.497027: I tensorflow/core/common_runtime/executor.cc:1197] [/device:CPU:0] (DEBUG INFO) Executor start aborting (this does not indicate an error and you can ignore this message): INVALID_ARGUMENT: You must feed a value for placeholder tensor 'Placeholder/_0' with dtype string and shape [1040]\n",
      "\t [[{{node Placeholder/_0}}]]\n"
     ]
    },
    {
     "name": "stdout",
     "output_type": "stream",
     "text": [
      "(224, 224, 3)\n"
     ]
    }
   ],
   "source": [
    "dataset = dataset.shuffle(len(dataset))\n",
    "\n",
    "for img in dataset:\n",
    "    print(img.numpy().shape)\n",
    "    break"
   ]
  },
  {
   "cell_type": "code",
   "execution_count": 11,
   "id": "7b126efd-c695-4492-9341-0a721e428bd6",
   "metadata": {},
   "outputs": [
    {
     "name": "stdout",
     "output_type": "stream",
     "text": [
      "(64, 224, 224, 3)\n"
     ]
    },
    {
     "name": "stderr",
     "output_type": "stream",
     "text": [
      "2023-07-12 12:05:49.190739: I tensorflow/core/common_runtime/executor.cc:1197] [/device:CPU:0] (DEBUG INFO) Executor start aborting (this does not indicate an error and you can ignore this message): INVALID_ARGUMENT: You must feed a value for placeholder tensor 'Placeholder/_0' with dtype string and shape [1040]\n",
      "\t [[{{node Placeholder/_0}}]]\n",
      "2023-07-12 12:05:49.192203: I tensorflow/core/common_runtime/executor.cc:1197] [/device:CPU:0] (DEBUG INFO) Executor start aborting (this does not indicate an error and you can ignore this message): INVALID_ARGUMENT: You must feed a value for placeholder tensor 'Placeholder/_0' with dtype string and shape [1040]\n",
      "\t [[{{node Placeholder/_0}}]]\n"
     ]
    }
   ],
   "source": [
    "dataset = dataset.batch(BATCH_SIZE)\n",
    "dataset\n",
    "\n",
    "for img in dataset:\n",
    "    print(img.numpy().shape)\n",
    "    break"
   ]
  },
  {
   "cell_type": "code",
   "execution_count": 12,
   "id": "9c063d6d-cc33-4495-9132-facddaf095e7",
   "metadata": {},
   "outputs": [
    {
     "data": {
      "text/plain": [
       "<_PrefetchDataset element_spec=TensorSpec(shape=(None, 224, 224, 3), dtype=tf.float32, name=None)>"
      ]
     },
     "execution_count": 12,
     "metadata": {},
     "output_type": "execute_result"
    }
   ],
   "source": [
    "dataset = dataset.prefetch(AUTOTUNE)\n",
    "dataset"
   ]
  }
 ],
 "metadata": {
  "kernelspec": {
   "display_name": "Python (.venv)",
   "language": "python",
   "name": ".venv"
  },
  "language_info": {
   "codemirror_mode": {
    "name": "ipython",
    "version": 3
   },
   "file_extension": ".py",
   "mimetype": "text/x-python",
   "name": "python",
   "nbconvert_exporter": "python",
   "pygments_lexer": "ipython3",
   "version": "3.10.2"
  }
 },
 "nbformat": 4,
 "nbformat_minor": 5
}
