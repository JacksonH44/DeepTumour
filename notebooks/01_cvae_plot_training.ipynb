{
 "cells": [
  {
   "cell_type": "code",
   "execution_count": 1,
   "metadata": {},
   "outputs": [],
   "source": [
    "import pickle\n",
    "import os\n",
    "\n",
    "import matplotlib.pyplot as plt\n",
    "import numpy as np\n",
    "\n",
    "os.chdir('c:/Users/jacks/OneDrive - University of Waterloo/research/summer2023/projects/SlideSleuth/notebooks')\n"
   ]
  },
  {
   "cell_type": "code",
   "execution_count": 2,
   "metadata": {},
   "outputs": [],
   "source": [
    "def plot_loss(history, metric):\n",
    "  \"\"\"A function that plots the loss metric over time for a vae training session\n",
    "\n",
    "  Args:\n",
    "      history (History): The history of a fitted model\n",
    "  \"\"\"\n",
    "  \n",
    "  if metric == 'calculate_reconstruction_loss':\n",
    "    metric_label = 'Reconstruction Loss'\n",
    "  elif metric == '_calculate_kl_loss':\n",
    "    metric_label = 'KL Divergence'\n",
    "  else:\n",
    "    metric_label = 'Loss'\n",
    "  \n",
    "  plt.plot(\n",
    "      np.arange(len(history[metric])),\n",
    "      history[metric],\n",
    "      color='#44cf6c',\n",
    "      label=f'Train {metric_label}'\n",
    "  )\n",
    "  plt.plot(\n",
    "      np.arange(len(history[metric])),\n",
    "      history[f'val_{metric}'],\n",
    "      color='#44cf6c',\n",
    "      label=f'Valid {metric_label}',\n",
    "      linestyle='--'\n",
    "  )\n",
    "  plt.xlabel('Epoch')\n",
    "  plt.ylabel('Loss')\n",
    "  plt.title(f'{metric_label}')"
   ]
  },
  {
   "cell_type": "markdown",
   "metadata": {},
   "source": [
    "### Plot the loss of the CVAE over time"
   ]
  },
  {
   "cell_type": "code",
   "execution_count": 3,
   "metadata": {},
   "outputs": [],
   "source": [
    "with open('../models/cvae-20230728-102327/history.pkl', 'rb') as file:\n",
    "  history = pickle.load(file)"
   ]
  },
  {
   "cell_type": "code",
   "execution_count": 4,
   "metadata": {},
   "outputs": [
    {
     "data": {
      "image/png": "[encoded data removed]",
      "text/plain": [
       "<Figure size 432x288 with 1 Axes>"
      ]
     },
     "metadata": {
      "needs_background": "light"
     },
     "output_type": "display_data"
    }
   ],
   "source": [
    "plot_loss(history, 'loss')\n",
    "plt.legend()\n",
    "plt.savefig('../reports/figures/cvae-20230728-102327/cvae_total_loss.svg', format='svg')\n",
    "plt.show()"
   ]
  },
  {
   "cell_type": "markdown",
   "metadata": {},
   "source": [
    "### Plot images vs. the CVAE reconstruction"
   ]
  },
  {
   "cell_type": "code",
   "execution_count": null,
   "metadata": {},
   "outputs": [],
   "source": []
  }
 ],
 "metadata": {
  "kernelspec": {
   "display_name": "Python 3",
   "language": "python",
   "name": "python3"
  },
  "language_info": {
   "codemirror_mode": {
    "name": "ipython",
    "version": 3
   },
   "file_extension": ".py",
   "mimetype": "text/x-python",
   "name": "python",
   "nbconvert_exporter": "python",
   "pygments_lexer": "ipython3",
   "version": "3.9.7"
  },
  "orig_nbformat": 4
 },
 "nbformat": 4,
 "nbformat_minor": 2
}
