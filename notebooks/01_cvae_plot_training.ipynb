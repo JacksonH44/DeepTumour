{
 "cells": [
  {
   "cell_type": "code",
   "execution_count": 2,
   "id": "8fa72316-4c46-4242-ad4e-92fdb5f29436",
   "metadata": {},
   "outputs": [
    {
     "name": "stdout",
     "output_type": "stream",
     "text": [
      "Looking in links: /cvmfs/soft.computecanada.ca/custom/python/wheelhouse/gentoo/avx2, /cvmfs/soft.computecanada.ca/custom/python/wheelhouse/gentoo/generic, /cvmfs/soft.computecanada.ca/custom/python/wheelhouse/generic\n",
      "\u001b[33mWARNING: Retrying (Retry(total=4, connect=None, read=None, redirect=None, status=None)) after connection broken by 'NewConnectionError('<pip._vendor.urllib3.connection.HTTPSConnection object at 0x2ad3f2574610>: Failed to establish a new connection: [Errno 101] Network is unreachable')': /simple/matplotlib/\u001b[0m\u001b[33m\n",
      "\u001b[0m\u001b[33mWARNING: Retrying (Retry(total=3, connect=None, read=None, redirect=None, status=None)) after connection broken by 'NewConnectionError('<pip._vendor.urllib3.connection.HTTPSConnection object at 0x2ad3f2574940>: Failed to establish a new connection: [Errno 101] Network is unreachable')': /simple/matplotlib/\u001b[0m\u001b[33m\n",
      "\u001b[0m\u001b[33mWARNING: Retrying (Retry(total=2, connect=None, read=None, redirect=None, status=None)) after connection broken by 'NewConnectionError('<pip._vendor.urllib3.connection.HTTPSConnection object at 0x2ad3f2574af0>: Failed to establish a new connection: [Errno 101] Network is unreachable')': /simple/matplotlib/\u001b[0m\u001b[33m\n",
      "\u001b[0m\u001b[33mWARNING: Retrying (Retry(total=1, connect=None, read=None, redirect=None, status=None)) after connection broken by 'NewConnectionError('<pip._vendor.urllib3.connection.HTTPSConnection object at 0x2ad3f2574ca0>: Failed to establish a new connection: [Errno 101] Network is unreachable')': /simple/matplotlib/\u001b[0m\u001b[33m\n",
      "\u001b[0m\u001b[33mWARNING: Retrying (Retry(total=0, connect=None, read=None, redirect=None, status=None)) after connection broken by 'NewConnectionError('<pip._vendor.urllib3.connection.HTTPSConnection object at 0x2ad3f2574e50>: Failed to establish a new connection: [Errno 101] Network is unreachable')': /simple/matplotlib/\u001b[0m\u001b[33m\n",
      "\u001b[0mProcessing /cvmfs/soft.computecanada.ca/custom/python/wheelhouse/gentoo/avx2/matplotlib-3.7.0+computecanada-cp310-cp310-linux_x86_64.whl\n",
      "\u001b[33mWARNING: Retrying (Retry(total=4, connect=None, read=None, redirect=None, status=None)) after connection broken by 'NewConnectionError('<pip._vendor.urllib3.connection.HTTPSConnection object at 0x2ad3f25827a0>: Failed to establish a new connection: [Errno 101] Network is unreachable')': /simple/contourpy/\u001b[0m\u001b[33m\n",
      "\u001b[0m\u001b[33mWARNING: Retrying (Retry(total=3, connect=None, read=None, redirect=None, status=None)) after connection broken by 'NewConnectionError('<pip._vendor.urllib3.connection.HTTPSConnection object at 0x2ad3f2f10be0>: Failed to establish a new connection: [Errno 101] Network is unreachable')': /simple/contourpy/\u001b[0m\u001b[33m\n",
      "\u001b[0m\u001b[33mWARNING: Retrying (Retry(total=2, connect=None, read=None, redirect=None, status=None)) after connection broken by 'NewConnectionError('<pip._vendor.urllib3.connection.HTTPSConnection object at 0x2ad3f2f103d0>: Failed to establish a new connection: [Errno 101] Network is unreachable')': /simple/contourpy/\u001b[0m\u001b[33m\n",
      "\u001b[0m\u001b[33mWARNING: Retrying (Retry(total=1, connect=None, read=None, redirect=None, status=None)) after connection broken by 'NewConnectionError('<pip._vendor.urllib3.connection.HTTPSConnection object at 0x2ad3f2f10640>: Failed to establish a new connection: [Errno 101] Network is unreachable')': /simple/contourpy/\u001b[0m\u001b[33m\n",
      "\u001b[0m\u001b[33mWARNING: Retrying (Retry(total=0, connect=None, read=None, redirect=None, status=None)) after connection broken by 'NewConnectionError('<pip._vendor.urllib3.connection.HTTPSConnection object at 0x2ad3f2f10d90>: Failed to establish a new connection: [Errno 101] Network is unreachable')': /simple/contourpy/\u001b[0m\u001b[33m\n",
      "\u001b[0mProcessing /cvmfs/soft.computecanada.ca/custom/python/wheelhouse/gentoo/generic/contourpy-1.0.7+computecanada-cp310-cp310-linux_x86_64.whl (from matplotlib)\n",
      "\u001b[33mWARNING: Retrying (Retry(total=4, connect=None, read=None, redirect=None, status=None)) after connection broken by 'NewConnectionError('<pip._vendor.urllib3.connection.HTTPSConnection object at 0x2ad3f2f10c70>: Failed to establish a new connection: [Errno 101] Network is unreachable')': /simple/cycler/\u001b[0m\u001b[33m\n",
      "\u001b[0m\u001b[33mWARNING: Retrying (Retry(total=3, connect=None, read=None, redirect=None, status=None)) after connection broken by 'NewConnectionError('<pip._vendor.urllib3.connection.HTTPSConnection object at 0x2ad3f2f11060>: Failed to establish a new connection: [Errno 101] Network is unreachable')': /simple/cycler/\u001b[0m\u001b[33m\n",
      "\u001b[0m\u001b[33mWARNING: Retrying (Retry(total=2, connect=None, read=None, redirect=None, status=None)) after connection broken by 'NewConnectionError('<pip._vendor.urllib3.connection.HTTPSConnection object at 0x2ad3f2f111e0>: Failed to establish a new connection: [Errno 101] Network is unreachable')': /simple/cycler/\u001b[0m\u001b[33m\n",
      "\u001b[0m\u001b[33mWARNING: Retrying (Retry(total=1, connect=None, read=None, redirect=None, status=None)) after connection broken by 'NewConnectionError('<pip._vendor.urllib3.connection.HTTPSConnection object at 0x2ad3f2583130>: Failed to establish a new connection: [Errno 101] Network is unreachable')': /simple/cycler/\u001b[0m\u001b[33m\n",
      "\u001b[0m\u001b[33mWARNING: Retrying (Retry(total=0, connect=None, read=None, redirect=None, status=None)) after connection broken by 'NewConnectionError('<pip._vendor.urllib3.connection.HTTPSConnection object at 0x2ad3f25835e0>: Failed to establish a new connection: [Errno 101] Network is unreachable')': /simple/cycler/\u001b[0m\u001b[33m\n",
      "\u001b[0mProcessing /cvmfs/soft.computecanada.ca/custom/python/wheelhouse/generic/cycler-0.11.0+computecanada-py3-none-any.whl (from matplotlib)\n",
      "\u001b[33mWARNING: Retrying (Retry(total=4, connect=None, read=None, redirect=None, status=None)) after connection broken by 'NewConnectionError('<pip._vendor.urllib3.connection.HTTPSConnection object at 0x2ad3f2f11d20>: Failed to establish a new connection: [Errno 101] Network is unreachable')': /simple/fonttools/\u001b[0m\u001b[33m\n",
      "\u001b[0m\u001b[33mWARNING: Retrying (Retry(total=3, connect=None, read=None, redirect=None, status=None)) after connection broken by 'NewConnectionError('<pip._vendor.urllib3.connection.HTTPSConnection object at 0x2ad3f2f11fc0>: Failed to establish a new connection: [Errno 101] Network is unreachable')': /simple/fonttools/\u001b[0m\u001b[33m\n",
      "\u001b[0m\u001b[33mWARNING: Retrying (Retry(total=2, connect=None, read=None, redirect=None, status=None)) after connection broken by 'NewConnectionError('<pip._vendor.urllib3.connection.HTTPSConnection object at 0x2ad3f2f12170>: Failed to establish a new connection: [Errno 101] Network is unreachable')': /simple/fonttools/\u001b[0m\u001b[33m\n",
      "\u001b[0m\u001b[33mWARNING: Retrying (Retry(total=1, connect=None, read=None, redirect=None, status=None)) after connection broken by 'NewConnectionError('<pip._vendor.urllib3.connection.HTTPSConnection object at 0x2ad3f2f12320>: Failed to establish a new connection: [Errno 101] Network is unreachable')': /simple/fonttools/\u001b[0m\u001b[33m\n",
      "\u001b[0m\u001b[33mWARNING: Retrying (Retry(total=0, connect=None, read=None, redirect=None, status=None)) after connection broken by 'NewConnectionError('<pip._vendor.urllib3.connection.HTTPSConnection object at 0x2ad3f2f124d0>: Failed to establish a new connection: [Errno 101] Network is unreachable')': /simple/fonttools/\u001b[0m\u001b[33m\n",
      "\u001b[0mProcessing /cvmfs/soft.computecanada.ca/custom/python/wheelhouse/generic/fonttools-4.41.0+computecanada-cp310-cp310-linux_x86_64.whl (from matplotlib)\n",
      "\u001b[33mWARNING: Retrying (Retry(total=4, connect=None, read=None, redirect=None, status=None)) after connection broken by 'NewConnectionError('<pip._vendor.urllib3.connection.HTTPSConnection object at 0x2ad3f2f13ca0>: Failed to establish a new connection: [Errno 101] Network is unreachable')': /simple/kiwisolver/\u001b[0m\u001b[33m\n",
      "\u001b[0m\u001b[33mWARNING: Retrying (Retry(total=3, connect=None, read=None, redirect=None, status=None)) after connection broken by 'NewConnectionError('<pip._vendor.urllib3.connection.HTTPSConnection object at 0x2ad3f2f13f70>: Failed to establish a new connection: [Errno 101] Network is unreachable')': /simple/kiwisolver/\u001b[0m\u001b[33m\n",
      "\u001b[0m\u001b[33mWARNING: Retrying (Retry(total=2, connect=None, read=None, redirect=None, status=None)) after connection broken by 'NewConnectionError('<pip._vendor.urllib3.connection.HTTPSConnection object at 0x2ad3f4914130>: Failed to establish a new connection: [Errno 101] Network is unreachable')': /simple/kiwisolver/\u001b[0m\u001b[33m\n",
      "\u001b[0m\u001b[33mWARNING: Retrying (Retry(total=1, connect=None, read=None, redirect=None, status=None)) after connection broken by 'NewConnectionError('<pip._vendor.urllib3.connection.HTTPSConnection object at 0x2ad3f49142e0>: Failed to establish a new connection: [Errno 101] Network is unreachable')': /simple/kiwisolver/\u001b[0m\u001b[33m\n",
      "\u001b[0m\u001b[33mWARNING: Retrying (Retry(total=2, connect=None, read=None, redirect=None, status=None)) after connection broken by 'NewConnectionError('<pip._vendor.urllib3.connection.HTTPSConnection object at 0x2aeb59911c00>: Failed to establish a new connection: [Errno 101] Network is unreachable')': /simple/matplotlib/\u001b[0m\u001b[33m\n",
      "\u001b[0m\u001b[33mWARNING: Retrying (Retry(total=1, connect=None, read=None, redirect=None, status=None)) after connection broken by 'NewConnectionError('<pip._vendor.urllib3.connection.HTTPSConnection object at 0x2aeb59911db0>: Failed to establish a new connection: [Errno 101] Network is unreachable')': /simple/matplotlib/\u001b[0m\u001b[33m\n",
      "\u001b[0m\u001b[33mWARNING: Retrying (Retry(total=0, connect=None, read=None, redirect=None, status=None)) after connection broken by 'NewConnectionError('<pip._vendor.urllib3.connection.HTTPSConnection object at 0x2aeb59911f60>: Failed to establish a new connection: [Errno 101] Network is unreachable')': /simple/matplotlib/\u001b[0m\u001b[33m\n",
      "\u001b[0mProcessing /cvmfs/soft.computecanada.ca/custom/python/wheelhouse/gentoo/avx2/matplotlib-3.7.0+computecanada-cp310-cp310-linux_x86_64.whl (from seaborn)\n",
      "\u001b[33mWARNING: Retrying (Retry(total=4, connect=None, read=None, redirect=None, status=None)) after connection broken by 'NewConnectionError('<pip._vendor.urllib3.connection.HTTPSConnection object at 0x2aeb5a2ea2c0>: Failed to establish a new connection: [Errno 101] Network is unreachable')': /simple/contourpy/\u001b[0m\u001b[33m\n",
      "\u001b[0m\u001b[33mWARNING: Retrying (Retry(total=3, connect=None, read=None, redirect=None, status=None)) after connection broken by 'NewConnectionError('<pip._vendor.urllib3.connection.HTTPSConnection object at 0x2aeb5a2ea590>: Failed to establish a new connection: [Errno 101] Network is unreachable')': /simple/contourpy/\u001b[0m\u001b[33m\n",
      "\u001b[0m\u001b[33mWARNING: Retrying (Retry(total=2, connect=None, read=None, redirect=None, status=None)) after connection broken by 'NewConnectionError('<pip._vendor.urllib3.connection.HTTPSConnection object at 0x2aeb5a2ea740>: Failed to establish a new connection: [Errno 101] Network is unreachable')': /simple/contourpy/\u001b[0m\u001b[33m\n",
      "\u001b[0m\u001b[33mWARNING: Retrying (Retry(total=1, connect=None, read=None, redirect=None, status=None)) after connection broken by 'NewConnectionError('<pip._vendor.urllib3.connection.HTTPSConnection object at 0x2aeb59983fa0>: Failed to establish a new connection: [Errno 101] Network is unreachable')': /simple/contourpy/\u001b[0m\u001b[33m\n",
      "\u001b[0m\u001b[33mWARNING: Retrying (Retry(total=0, connect=None, read=None, redirect=None, status=None)) after connection broken by 'NewConnectionError('<pip._vendor.urllib3.connection.HTTPSConnection object at 0x2aeb599839a0>: Failed to establish a new connection: [Errno 101] Network is unreachable')': /simple/contourpy/\u001b[0m\u001b[33m\n",
      "\u001b[0mProcessing /cvmfs/soft.computecanada.ca/custom/python/wheelhouse/generic/fonttools-4.41.0+computecanada-cp310-cp310-linux_x86_64.whl (from matplotlib!=3.6.1,>=3.1->seaborn)\n",
      "\u001b[33mWARNING: Retrying (Retry(total=4, connect=None, read=None, redirect=None, status=None)) after connection broken by 'NewConnectionError('<pip._vendor.urllib3.connection.HTTPSConnection object at 0x2aeb5a2eacb0>: Failed to establish a new connection: [Errno 101] Network is unreachable')': /simple/kiwisolver/\u001b[0m\u001b[33m\n",
      "\u001b[0m\u001b[33mWARNING: Retrying (Retry(total=3, connect=None, read=None, redirect=None, status=None)) after connection broken by 'NewConnectionError('<pip._vendor.urllib3.connection.HTTPSConnection object at 0x2aeb5a2eaf80>: Failed to establish a new connection: [Errno 101] Network is unreachable')': /simple/kiwisolver/\u001b[0m\u001b[33m\n",
      "\u001b[0m\u001b[33mWARNING: Retrying (Retry(total=2, connect=None, read=None, redirect=None, status=None)) after connection broken by 'NewConnectionError('<pip._vendor.urllib3.connection.HTTPSConnection object at 0x2aeb5a2eb130>: Failed to establish a new connection: [Errno 101] Network is unreachable')': /simple/kiwisolver/\u001b[0m\u001b[33m\n",
      "\u001b[0m\u001b[33mWARNING: Retrying (Retry(total=1, connect=None, read=None, redirect=None, status=None)) after connection broken by 'NewConnectionError('<pip._vendor.urllib3.connection.HTTPSConnection object at 0x2aeb5a2ea7a0>: Failed to establish a new connection: [Errno 101] Network is unreachable')': /simple/kiwisolver/\u001b[0m\u001b[33m\n",
      "\u001b[0m\u001b[33mWARNING: Retrying (Retry(total=0, connect=None, read=None, redirect=None, status=None)) after connection broken by 'NewConnectionError('<pip._vendor.urllib3.connection.HTTPSConnection object at 0x2aeb5a2ea1a0>: Failed to establish a new connection: [Errno 101] Network is unreachable')': /simple/kiwisolver/\u001b[0m\u001b[33m\n",
      "\u001b[0mProcessing /cvmfs/soft.computecanada.ca/custom/python/wheelhouse/gentoo/avx2/kiwisolver-1.4.4+computecanada-cp310-cp310-linux_x86_64.whl (from matplotlib!=3.6.1,>=3.1->seaborn)\n",
      "Requirement already satisfied: packaging>=20.0 in /project/6069023/jhowe4/SlideSleuth/.venv/lib/python3.10/site-packages (from matplotlib!=3.6.1,>=3.1->seaborn) (23.1+computecanada)\n",
      "\u001b[33mWARNING: Retrying (Retry(total=4, connect=None, read=None, redirect=None, status=None)) after connection broken by 'NewConnectionError('<pip._vendor.urllib3.connection.HTTPSConnection object at 0x2aeb5c594340>: Failed to establish a new connection: [Errno 101] Network is unreachable')': /simple/pillow/\u001b[0m\u001b[33m\n",
      "\u001b[0m\u001b[33mWARNING: Retrying (Retry(total=3, connect=None, read=None, redirect=None, status=None)) after connection broken by 'NewConnectionError('<pip._vendor.urllib3.connection.HTTPSConnection object at 0x2aeb5c594640>: Failed to establish a new connection: [Errno 101] Network is unreachable')': /simple/pillow/\u001b[0m\u001b[33m\n",
      "\u001b[0m\u001b[33mWARNING: Retrying (Retry(total=2, connect=None, read=None, redirect=None, status=None)) after connection broken by 'NewConnectionError('<pip._vendor.urllib3.connection.HTTPSConnection object at 0x2aeb5c5947f0>: Failed to establish a new connection: [Errno 101] Network is unreachable')': /simple/pillow/\u001b[0m\u001b[33m\n",
      "\u001b[0m\u001b[33mWARNING: Retrying (Retry(total=1, connect=None, read=None, redirect=None, status=None)) after connection broken by 'NewConnectionError('<pip._vendor.urllib3.connection.HTTPSConnection object at 0x2aeb5a2eb6d0>: Failed to establish a new connection: [Errno 101] Network is unreachable')': /simple/pillow/\u001b[0m\u001b[33m\n",
      "\u001b[0m\u001b[33mWARNING: Retrying (Retry(total=0, connect=None, read=None, redirect=None, status=None)) after connection broken by 'NewConnectionError('<pip._vendor.urllib3.connection.HTTPSConnection object at 0x2aeb5a2eba60>: Failed to establish a new connection: [Errno 101] Network is unreachable')': /simple/pillow/\u001b[0m\u001b[33m\n",
      "\u001b[0mProcessing /cvmfs/soft.computecanada.ca/custom/python/wheelhouse/gentoo/avx2/Pillow-9.5.0+computecanada-cp310-cp310-linux_x86_64.whl (from matplotlib!=3.6.1,>=3.1->seaborn)\n",
      "\u001b[33mWARNING: Retrying (Retry(total=4, connect=None, read=None, redirect=None, status=None)) after connection broken by 'NewConnectionError('<pip._vendor.urllib3.connection.HTTPSConnection object at 0x2aeb5c594d90>: Failed to establish a new connection: [Errno 101] Network is unreachable')': /simple/pyparsing/\u001b[0m\u001b[33m\n",
      "\u001b[0m\u001b[33mWARNING: Retrying (Retry(total=3, connect=None, read=None, redirect=None, status=None)) after connection broken by 'NewConnectionError('<pip._vendor.urllib3.connection.HTTPSConnection object at 0x2aeb5c595060>: Failed to establish a new connection: [Errno 101] Network is unreachable')': /simple/pyparsing/\u001b[0m\u001b[33m\n",
      "\u001b[0m\u001b[33mWARNING: Retrying (Retry(total=2, connect=None, read=None, redirect=None, status=None)) after connection broken by 'NewConnectionError('<pip._vendor.urllib3.connection.HTTPSConnection object at 0x2aeb5c595210>: Failed to establish a new connection: [Errno 101] Network is unreachable')': /simple/pyparsing/\u001b[0m\u001b[33m\n",
      "\u001b[0m\u001b[33mWARNING: Retrying (Retry(total=1, connect=None, read=None, redirect=None, status=None)) after connection broken by 'NewConnectionError('<pip._vendor.urllib3.connection.HTTPSConnection object at 0x2aeb5c5953c0>: Failed to establish a new connection: [Errno 101] Network is unreachable')': /simple/pyparsing/\u001b[0m\u001b[33m\n",
      "\u001b[0m\u001b[33mWARNING: Retrying (Retry(total=0, connect=None, read=None, redirect=None, status=None)) after connection broken by 'NewConnectionError('<pip._vendor.urllib3.connection.HTTPSConnection object at 0x2aeb5c595570>: Failed to establish a new connection: [Errno 101] Network is unreachable')': /simple/pyparsing/\u001b[0m\u001b[33m\n",
      "\u001b[0mProcessing /cvmfs/soft.computecanada.ca/custom/python/wheelhouse/generic/pyparsing-3.0.9+computecanada-py3-none-any.whl (from matplotlib!=3.6.1,>=3.1->seaborn)\n",
      "Requirement already satisfied: python-dateutil>=2.7 in /project/6069023/jhowe4/SlideSleuth/.venv/lib/python3.10/site-packages (from matplotlib!=3.6.1,>=3.1->seaborn) (2.8.2+computecanada)\n",
      "Requirement already satisfied: pytz>=2020.1 in /project/6069023/jhowe4/SlideSleuth/.venv/lib/python3.10/site-packages (from pandas>=0.25->seaborn) (2023.3+computecanada)\n",
      "Requirement already satisfied: tzdata>=2022.1 in /project/6069023/jhowe4/SlideSleuth/.venv/lib/python3.10/site-packages (from pandas>=0.25->seaborn) (2023.3+computecanada)\n",
      "Requirement already satisfied: six>=1.5 in /project/6069023/jhowe4/SlideSleuth/.venv/lib/python3.10/site-packages (from python-dateutil>=2.7->matplotlib!=3.6.1,>=3.1->seaborn) (1.16.0+computecanada)\n",
      "Installing collected packages: pyparsing, pillow, kiwisolver, fonttools, cycler, contourpy, matplotlib\n",
      "Successfully installed contourpy-1.0.7+computecanada cycler-0.11.0+computecanada fonttools-4.41.0+computecanada kiwisolver-1.4.4+computecanada matplotlib-3.7.0+computecanada pillow-9.5.0+computecanada pyparsing-3.0.9+computecanada\n",
      "Note: you may need to restart the kernel to use updated packages.\n"
     ]
    }
   ],
   "source": [
    "%pip install matplotlib\n",
    "%pip install seaborn"
   ]
  },
  {
   "cell_type": "code",
   "execution_count": null,
   "id": "11aad7a4-72f3-4a07-bdae-97395c549104",
   "metadata": {},
   "outputs": [],
   "source": [
    "import pickle\n",
    "\n",
    "import tensorflow as tf\n",
    "import matplotlib.pyplot as plt\n",
    "import seaborn as sns"
   ]
  }
 ],
 "metadata": {
  "kernelspec": {
   "display_name": "local-venv",
   "language": "python",
   "name": "local-venv"
  },
  "language_info": {
   "codemirror_mode": {
    "name": "ipython",
    "version": 3
   },
   "file_extension": ".py",
   "mimetype": "text/x-python",
   "name": "python",
   "nbconvert_exporter": "python",
   "pygments_lexer": "ipython3",
   "version": "3.10.2"
  }
 },
 "nbformat": 4,
 "nbformat_minor": 5
}
