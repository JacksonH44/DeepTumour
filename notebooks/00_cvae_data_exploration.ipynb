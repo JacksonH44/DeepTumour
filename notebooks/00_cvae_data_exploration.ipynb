{
 "cells": [
  {
   "cell_type": "code",
   "execution_count": 1,
   "id": "480cc8e2-9456-4db3-bcea-b7c006640c75",
   "metadata": {},
   "outputs": [],
   "source": [
    "# %pip install scipy\n",
    "import tensorflow as tf\n",
    "from tensorflow.keras.preprocessing.image import ImageDataGenerator\n",
    "import numpy as np"
   ]
  },
  {
   "cell_type": "code",
   "execution_count": 2,
   "id": "692f4ee0-2ae3-4cfa-99d3-29ff79b74161",
   "metadata": {},
   "outputs": [],
   "source": [
    "DIR_PATH = '../data/processed/CK7/test'\n",
    "AUTOTUNE = tf.data.AUTOTUNE\n",
    "NUM_OBSERVATIONS = 17364\n",
    "IMG_SIZE = 224\n",
    "BATCH_SIZE = 32"
   ]
  },
  {
   "cell_type": "code",
   "execution_count": 3,
   "id": "39a0d580",
   "metadata": {},
   "outputs": [],
   "source": [
    "def make_dataset(dir_path, img_size=(IMG_SIZE, IMG_SIZE), batch_size=BATCH_SIZE):\n",
    "  # Create data generator\n",
    "  datagen = ImageDataGenerator(\n",
    "      rescale=1./255\n",
    "  )\n",
    "\n",
    "  return datagen.flow_from_directory(\n",
    "      dir_path,\n",
    "      target_size=img_size,\n",
    "      class_mode='input',\n",
    "      batch_size=batch_size\n",
    "  )\n"
   ]
  },
  {
   "cell_type": "code",
   "execution_count": 4,
   "id": "89bb09ff",
   "metadata": {},
   "outputs": [
    {
     "name": "stdout",
     "output_type": "stream",
     "text": [
      "Found 8122 images belonging to 1 classes.\n"
     ]
    }
   ],
   "source": [
    "tf.compat.v1.disable_eager_execution()\n",
    "test_ds = make_dataset(DIR_PATH)"
   ]
  },
  {
   "cell_type": "code",
   "execution_count": null,
   "id": "6c79d2f7",
   "metadata": {},
   "outputs": [
    {
     "ename": "",
     "evalue": "",
     "output_type": "error",
     "traceback": [
      "\u001b[1;31mFailed to start the Kernel. \n",
      "\u001b[1;31mUnable to start Kernel '.venv (Python 3.10.2)' due to a timeout waiting for the ports to get used. \n",
      "\u001b[1;31mView Jupyter <a href='command:jupyter.viewOutput'>log</a> for further details."
     ]
    }
   ],
   "source": [
    "for data_batch, _ in test_ds:\n",
    "  for i in range(len(data_batch)):\n",
    "    print(f'Image file name: {test_ds.filenames[i]}')"
   ]
  },
  {
   "cell_type": "code",
   "execution_count": 21,
   "id": "8fc8d9e0",
   "metadata": {},
   "outputs": [],
   "source": [
    "samples = [x for _, x in zip(range(1), test_ds)]"
   ]
  },
  {
   "cell_type": "code",
   "execution_count": 23,
   "id": "7af5bb8e",
   "metadata": {},
   "outputs": [
    {
     "name": "stdout",
     "output_type": "stream",
     "text": [
      "(32, 224, 224, 3)\n"
     ]
    }
   ],
   "source": [
    "samples = np.array(samples)\n",
    "print(samples[0][0].shape)"
   ]
  },
  {
   "cell_type": "code",
   "execution_count": null,
   "id": "1066a7ee-60b0-4db6-90a5-8aa01980cb31",
   "metadata": {},
   "outputs": [],
   "source": [
    "def change_inputs(image, label):\n",
    "    return image, image\n",
    "\n",
    "def normalize(image, mirrored_image):\n",
    "    return (tf.cast(image, tf.float32) / 255.0, tf.cast(mirrored_image, tf.float32) / 255.0)"
   ]
  },
  {
   "cell_type": "code",
   "execution_count": null,
   "id": "37dd0890-3b89-4e2c-b306-9fd9dbb8546b",
   "metadata": {},
   "outputs": [],
   "source": [
    "dataset = tf.keras.utils.image_dataset_from_directory(DIR_PATH, batch_size=128, image_size=(224, 224), shuffle=True)"
   ]
  },
  {
   "cell_type": "code",
   "execution_count": null,
   "id": "6594f559-af48-418e-b6de-0a7009e08430",
   "metadata": {},
   "outputs": [],
   "source": [
    "dataset = dataset.map(change_inputs, num_parallel_calls=AUTOTUNE)"
   ]
  },
  {
   "cell_type": "code",
   "execution_count": null,
   "id": "e398b3be-e692-4535-b12a-ecfc906bd2f6",
   "metadata": {},
   "outputs": [],
   "source": [
    "for img_batch, img_batch_mirror in dataset.take(1):\n",
    "    for img in img_batch:\n",
    "        print(img)\n",
    "        break\n",
    "    for img in img_batch_mirror:\n",
    "        print(img)\n",
    "        break"
   ]
  },
  {
   "cell_type": "code",
   "execution_count": null,
   "id": "44cf39ef-b8e9-4d67-9aa7-0bce56f9c83d",
   "metadata": {},
   "outputs": [],
   "source": [
    "dataset = dataset.map(normalize, num_parallel_calls=AUTOTUNE)\n",
    "for img_batch, img_batch_mirror in dataset.take(1):\n",
    "    for img in img_batch:\n",
    "        print(img)\n",
    "        break\n",
    "    for img in img_batch_mirror:\n",
    "        print(img)\n",
    "        break"
   ]
  },
  {
   "cell_type": "code",
   "execution_count": null,
   "id": "ae4a0e05-a45f-4e01-8008-2468db9521f3",
   "metadata": {},
   "outputs": [],
   "source": [
    "dataset = dataset.cache()\n",
    "\n",
    "for img_batch, img_batch_mirror in dataset:\n",
    "    print(img_batch.shape)\n",
    "    print(img_batch_mirror.shape)\n",
    "    break"
   ]
  },
  {
   "cell_type": "code",
   "execution_count": null,
   "id": "b334a9fe-8969-40f7-bb6c-a21c064e8543",
   "metadata": {},
   "outputs": [],
   "source": [
    "dataset = dataset.prefetch(AUTOTUNE)\n",
    "dataset"
   ]
  }
 ],
 "metadata": {
  "kernelspec": {
   "display_name": ".venv",
   "language": "python",
   "name": "python3"
  },
  "language_info": {
   "codemirror_mode": {
    "name": "ipython",
    "version": 3
   },
   "file_extension": ".py",
   "mimetype": "text/x-python",
   "name": "python",
   "nbconvert_exporter": "python",
   "pygments_lexer": "ipython3",
   "version": "3.9.7"
  }
 },
 "nbformat": 4,
 "nbformat_minor": 5
}
