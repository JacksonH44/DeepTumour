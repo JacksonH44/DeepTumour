{
 "cells": [
  {
   "cell_type": "code",
   "execution_count": 1,
   "id": "480cc8e2-9456-4db3-bcea-b7c006640c75",
   "metadata": {},
   "outputs": [
    {
     "name": "stderr",
     "output_type": "stream",
     "text": [
      "2023-07-18 14:46:07.980512: I tensorflow/core/util/port.cc:110] oneDNN custom operations are on. You may see slightly different numerical results due to floating-point round-off errors from different computation orders. To turn them off, set the environment variable `TF_ENABLE_ONEDNN_OPTS=0`.\n",
      "2023-07-18 14:46:17.982703: I tensorflow/core/platform/cpu_feature_guard.cc:182] This TensorFlow binary is optimized to use available CPU instructions in performance-critical operations.\n",
      "To enable the following instructions: AVX2 AVX512F AVX512_VNNI FMA, in other operations, rebuild TensorFlow with the appropriate compiler flags.\n",
      "2023-07-18 14:47:01.006385: W tensorflow/compiler/tf2tensorrt/utils/py_utils.cc:38] TF-TRT Warning: Could not find TensorRT\n"
     ]
    }
   ],
   "source": [
    "import tensorflow as tf"
   ]
  },
  {
   "cell_type": "code",
   "execution_count": 2,
   "id": "692f4ee0-2ae3-4cfa-99d3-29ff79b74161",
   "metadata": {},
   "outputs": [],
   "source": [
    "DIR_PATH = '../data/processed/CK7/CK7_cvae/test'\n",
    "AUTOTUNE = tf.data.AUTOTUNE\n",
    "NUM_OBSERVATIONS = 17364"
   ]
  },
  {
   "cell_type": "code",
   "execution_count": 3,
   "id": "1066a7ee-60b0-4db6-90a5-8aa01980cb31",
   "metadata": {},
   "outputs": [],
   "source": [
    "def change_inputs(image, label):\n",
    "    return image, image\n",
    "\n",
    "def normalize(image, mirrored_image):\n",
    "    return (tf.cast(image, tf.float32) / 255.0, tf.cast(mirrored_image, tf.float32) / 255.0)"
   ]
  },
  {
   "cell_type": "code",
   "execution_count": 4,
   "id": "37dd0890-3b89-4e2c-b306-9fd9dbb8546b",
   "metadata": {},
   "outputs": [
    {
     "name": "stdout",
     "output_type": "stream",
     "text": [
      "Found 17364 files belonging to 1 classes.\n"
     ]
    },
    {
     "name": "stderr",
     "output_type": "stream",
     "text": [
      "2023-07-18 14:55:53.854374: I tensorflow/core/common_runtime/gpu/gpu_device.cc:1635] Created device /job:localhost/replica:0/task:0/device:GPU:0 with 13509 MB memory:  -> device: 0, name: Tesla T4, pci bus id: 0000:5e:00.0, compute capability: 7.5\n",
      "2023-07-18 14:55:53.856894: I tensorflow/core/common_runtime/gpu/gpu_device.cc:1635] Created device /job:localhost/replica:0/task:0/device:GPU:1 with 13509 MB memory:  -> device: 1, name: Tesla T4, pci bus id: 0000:5f:00.0, compute capability: 7.5\n"
     ]
    }
   ],
   "source": [
    "dataset = tf.keras.utils.image_dataset_from_directory(DIR_PATH, batch_size=128, image_size=(224, 224), shuffle=True)"
   ]
  },
  {
   "cell_type": "code",
   "execution_count": 5,
   "id": "6594f559-af48-418e-b6de-0a7009e08430",
   "metadata": {},
   "outputs": [],
   "source": [
    "dataset = dataset.map(change_inputs, num_parallel_calls=AUTOTUNE)"
   ]
  },
  {
   "cell_type": "code",
   "execution_count": 6,
   "id": "e398b3be-e692-4535-b12a-ecfc906bd2f6",
   "metadata": {},
   "outputs": [
    {
     "name": "stderr",
     "output_type": "stream",
     "text": [
      "2023-07-18 15:06:13.395735: I tensorflow/core/common_runtime/executor.cc:1197] [/device:CPU:0] (DEBUG INFO) Executor start aborting (this does not indicate an error and you can ignore this message): INVALID_ARGUMENT: You must feed a value for placeholder tensor 'Placeholder/_0' with dtype string and shape [17364]\n",
      "\t [[{{node Placeholder/_0}}]]\n",
      "2023-07-18 15:06:13.399920: I tensorflow/core/common_runtime/executor.cc:1197] [/device:CPU:0] (DEBUG INFO) Executor start aborting (this does not indicate an error and you can ignore this message): INVALID_ARGUMENT: You must feed a value for placeholder tensor 'Placeholder/_0' with dtype string and shape [17364]\n",
      "\t [[{{node Placeholder/_0}}]]\n",
      "2023-07-18 15:06:23.472721: I tensorflow/core/kernels/data/shuffle_dataset_op.cc:392] Filling up shuffle buffer (this may take a while): 192 of 1024\n",
      "2023-07-18 15:06:33.446872: I tensorflow/core/kernels/data/shuffle_dataset_op.cc:392] Filling up shuffle buffer (this may take a while): 344 of 1024\n",
      "2023-07-18 15:06:43.511786: I tensorflow/core/kernels/data/shuffle_dataset_op.cc:392] Filling up shuffle buffer (this may take a while): 556 of 1024\n",
      "2023-07-18 15:06:53.445951: I tensorflow/core/kernels/data/shuffle_dataset_op.cc:392] Filling up shuffle buffer (this may take a while): 729 of 1024\n",
      "2023-07-18 15:07:03.448272: I tensorflow/core/kernels/data/shuffle_dataset_op.cc:392] Filling up shuffle buffer (this may take a while): 873 of 1024\n",
      "2023-07-18 15:07:12.957052: I tensorflow/core/kernels/data/shuffle_dataset_op.cc:417] Shuffle buffer filled.\n"
     ]
    },
    {
     "name": "stdout",
     "output_type": "stream",
     "text": [
      "tf.Tensor(\n",
      "[[[214. 208. 222.]\n",
      "  [210. 204. 216.]\n",
      "  [212. 206. 218.]\n",
      "  ...\n",
      "  [218. 208. 198.]\n",
      "  [206. 196. 186.]\n",
      "  [220. 210. 198.]]\n",
      "\n",
      " [[217. 211. 225.]\n",
      "  [211. 205. 217.]\n",
      "  [208. 202. 212.]\n",
      "  ...\n",
      "  [227. 217. 207.]\n",
      "  [216. 206. 194.]\n",
      "  [209. 199. 187.]]\n",
      "\n",
      " [[214. 208. 220.]\n",
      "  [213. 207. 219.]\n",
      "  [215. 209. 219.]\n",
      "  ...\n",
      "  [227. 215. 203.]\n",
      "  [205. 193. 181.]\n",
      "  [241. 229. 215.]]\n",
      "\n",
      " ...\n",
      "\n",
      " [[185. 172. 166.]\n",
      "  [231. 217. 216.]\n",
      "  [237. 222. 227.]\n",
      "  ...\n",
      "  [234. 229. 223.]\n",
      "  [230. 220. 219.]\n",
      "  [234. 222. 224.]]\n",
      "\n",
      " [[175. 164. 158.]\n",
      "  [200. 190. 188.]\n",
      "  [197. 186. 192.]\n",
      "  ...\n",
      "  [237. 233. 224.]\n",
      "  [240. 232. 229.]\n",
      "  [196. 186. 185.]]\n",
      "\n",
      " [[182. 173. 166.]\n",
      "  [171. 161. 159.]\n",
      "  [181. 172. 177.]\n",
      "  ...\n",
      "  [239. 235. 224.]\n",
      "  [241. 234. 228.]\n",
      "  [203. 193. 191.]]], shape=(224, 224, 3), dtype=float32)\n",
      "tf.Tensor(\n",
      "[[[214. 208. 222.]\n",
      "  [210. 204. 216.]\n",
      "  [212. 206. 218.]\n",
      "  ...\n",
      "  [218. 208. 198.]\n",
      "  [206. 196. 186.]\n",
      "  [220. 210. 198.]]\n",
      "\n",
      " [[217. 211. 225.]\n",
      "  [211. 205. 217.]\n",
      "  [208. 202. 212.]\n",
      "  ...\n",
      "  [227. 217. 207.]\n",
      "  [216. 206. 194.]\n",
      "  [209. 199. 187.]]\n",
      "\n",
      " [[214. 208. 220.]\n",
      "  [213. 207. 219.]\n",
      "  [215. 209. 219.]\n",
      "  ...\n",
      "  [227. 215. 203.]\n",
      "  [205. 193. 181.]\n",
      "  [241. 229. 215.]]\n",
      "\n",
      " ...\n",
      "\n",
      " [[185. 172. 166.]\n",
      "  [231. 217. 216.]\n",
      "  [237. 222. 227.]\n",
      "  ...\n",
      "  [234. 229. 223.]\n",
      "  [230. 220. 219.]\n",
      "  [234. 222. 224.]]\n",
      "\n",
      " [[175. 164. 158.]\n",
      "  [200. 190. 188.]\n",
      "  [197. 186. 192.]\n",
      "  ...\n",
      "  [237. 233. 224.]\n",
      "  [240. 232. 229.]\n",
      "  [196. 186. 185.]]\n",
      "\n",
      " [[182. 173. 166.]\n",
      "  [171. 161. 159.]\n",
      "  [181. 172. 177.]\n",
      "  ...\n",
      "  [239. 235. 224.]\n",
      "  [241. 234. 228.]\n",
      "  [203. 193. 191.]]], shape=(224, 224, 3), dtype=float32)\n"
     ]
    }
   ],
   "source": [
    "for img_batch, img_batch_mirror in dataset.take(1):\n",
    "    for img in img_batch:\n",
    "        print(img)\n",
    "        break\n",
    "    for img in img_batch_mirror:\n",
    "        print(img)\n",
    "        break"
   ]
  },
  {
   "cell_type": "code",
   "execution_count": 7,
   "id": "44cf39ef-b8e9-4d67-9aa7-0bce56f9c83d",
   "metadata": {},
   "outputs": [
    {
     "name": "stderr",
     "output_type": "stream",
     "text": [
      "2023-07-18 12:57:24.709805: I tensorflow/core/common_runtime/executor.cc:1197] [/device:CPU:0] (DEBUG INFO) Executor start aborting (this does not indicate an error and you can ignore this message): INVALID_ARGUMENT: You must feed a value for placeholder tensor 'Placeholder/_0' with dtype string and shape [17364]\n",
      "\t [[{{node Placeholder/_0}}]]\n",
      "2023-07-18 12:57:24.711178: I tensorflow/core/common_runtime/executor.cc:1197] [/device:CPU:0] (DEBUG INFO) Executor start aborting (this does not indicate an error and you can ignore this message): INVALID_ARGUMENT: You must feed a value for placeholder tensor 'Placeholder/_0' with dtype string and shape [17364]\n",
      "\t [[{{node Placeholder/_0}}]]\n"
     ]
    },
    {
     "name": "stdout",
     "output_type": "stream",
     "text": [
      "tf.Tensor(\n",
      "[[[0.7137255  0.60784316 0.5254902 ]\n",
      "  [0.36862746 0.2627451  0.18039216]\n",
      "  [0.48235294 0.37254903 0.2901961 ]\n",
      "  ...\n",
      "  [0.6627451  0.5803922  0.49803922]\n",
      "  [0.7372549  0.65882355 0.5647059 ]\n",
      "  [0.84705883 0.76862746 0.6745098 ]]\n",
      "\n",
      " [[0.5568628  0.4509804  0.3764706 ]\n",
      "  [0.34117648 0.23529412 0.16078432]\n",
      "  [0.24705882 0.14117648 0.06666667]\n",
      "  ...\n",
      "  [0.7529412  0.67058825 0.5882353 ]\n",
      "  [0.8392157  0.75686276 0.6745098 ]\n",
      "  [0.8784314  0.8        0.7058824 ]]\n",
      "\n",
      " [[0.6039216  0.5019608  0.44313726]\n",
      "  [0.54901963 0.44705883 0.3882353 ]\n",
      "  [0.60784316 0.5058824  0.44705883]\n",
      "  ...\n",
      "  [0.7372549  0.654902   0.5803922 ]\n",
      "  [0.7176471  0.627451   0.5568628 ]\n",
      "  [0.8039216  0.7176471  0.63529414]]\n",
      "\n",
      " ...\n",
      "\n",
      " [[0.94509804 0.85882354 0.80784315]\n",
      "  [0.9764706  0.9137255  0.8627451 ]\n",
      "  [0.92156863 0.8862745  0.85882354]\n",
      "  ...\n",
      "  [0.6117647  0.5019608  0.41960785]\n",
      "  [0.68235296 0.5686275  0.49803922]\n",
      "  [0.6745098  0.56078434 0.49019608]]\n",
      "\n",
      " [[0.6313726  0.5411765  0.4862745 ]\n",
      "  [0.6666667  0.59607846 0.54901963]\n",
      "  [0.68235296 0.6392157  0.6156863 ]\n",
      "  ...\n",
      "  [0.8117647  0.7372549  0.67058825]\n",
      "  [0.9764706  0.9019608  0.84313726]\n",
      "  [0.9529412  0.8784314  0.81960785]]\n",
      "\n",
      " [[0.40784314 0.31764707 0.25490198]\n",
      "  [0.4862745  0.4117647  0.35686275]\n",
      "  [0.5529412  0.50980395 0.4862745 ]\n",
      "  ...\n",
      "  [0.92941177 0.8666667  0.8039216 ]\n",
      "  [0.94509804 0.89411765 0.83137256]\n",
      "  [0.94509804 0.89411765 0.83137256]]], shape=(224, 224, 3), dtype=float32)\n",
      "tf.Tensor(\n",
      "[[[0.7137255  0.60784316 0.5254902 ]\n",
      "  [0.36862746 0.2627451  0.18039216]\n",
      "  [0.48235294 0.37254903 0.2901961 ]\n",
      "  ...\n",
      "  [0.6627451  0.5803922  0.49803922]\n",
      "  [0.7372549  0.65882355 0.5647059 ]\n",
      "  [0.84705883 0.76862746 0.6745098 ]]\n",
      "\n",
      " [[0.5568628  0.4509804  0.3764706 ]\n",
      "  [0.34117648 0.23529412 0.16078432]\n",
      "  [0.24705882 0.14117648 0.06666667]\n",
      "  ...\n",
      "  [0.7529412  0.67058825 0.5882353 ]\n",
      "  [0.8392157  0.75686276 0.6745098 ]\n",
      "  [0.8784314  0.8        0.7058824 ]]\n",
      "\n",
      " [[0.6039216  0.5019608  0.44313726]\n",
      "  [0.54901963 0.44705883 0.3882353 ]\n",
      "  [0.60784316 0.5058824  0.44705883]\n",
      "  ...\n",
      "  [0.7372549  0.654902   0.5803922 ]\n",
      "  [0.7176471  0.627451   0.5568628 ]\n",
      "  [0.8039216  0.7176471  0.63529414]]\n",
      "\n",
      " ...\n",
      "\n",
      " [[0.94509804 0.85882354 0.80784315]\n",
      "  [0.9764706  0.9137255  0.8627451 ]\n",
      "  [0.92156863 0.8862745  0.85882354]\n",
      "  ...\n",
      "  [0.6117647  0.5019608  0.41960785]\n",
      "  [0.68235296 0.5686275  0.49803922]\n",
      "  [0.6745098  0.56078434 0.49019608]]\n",
      "\n",
      " [[0.6313726  0.5411765  0.4862745 ]\n",
      "  [0.6666667  0.59607846 0.54901963]\n",
      "  [0.68235296 0.6392157  0.6156863 ]\n",
      "  ...\n",
      "  [0.8117647  0.7372549  0.67058825]\n",
      "  [0.9764706  0.9019608  0.84313726]\n",
      "  [0.9529412  0.8784314  0.81960785]]\n",
      "\n",
      " [[0.40784314 0.31764707 0.25490198]\n",
      "  [0.4862745  0.4117647  0.35686275]\n",
      "  [0.5529412  0.50980395 0.4862745 ]\n",
      "  ...\n",
      "  [0.92941177 0.8666667  0.8039216 ]\n",
      "  [0.94509804 0.89411765 0.83137256]\n",
      "  [0.94509804 0.89411765 0.83137256]]], shape=(224, 224, 3), dtype=float32)\n"
     ]
    }
   ],
   "source": [
    "dataset = dataset.map(normalize, num_parallel_calls=AUTOTUNE)\n",
    "for img_batch, img_batch_mirror in dataset.take(1):\n",
    "    for img in img_batch:\n",
    "        print(img)\n",
    "        break\n",
    "    for img in img_batch_mirror:\n",
    "        print(img)\n",
    "        break"
   ]
  },
  {
   "cell_type": "code",
   "execution_count": 8,
   "id": "ae4a0e05-a45f-4e01-8008-2468db9521f3",
   "metadata": {},
   "outputs": [
    {
     "name": "stderr",
     "output_type": "stream",
     "text": [
      "2023-07-18 12:57:32.230866: I tensorflow/core/common_runtime/executor.cc:1197] [/device:CPU:0] (DEBUG INFO) Executor start aborting (this does not indicate an error and you can ignore this message): INVALID_ARGUMENT: You must feed a value for placeholder tensor 'Placeholder/_4' with dtype int32 and shape [17364]\n",
      "\t [[{{node Placeholder/_4}}]]\n",
      "2023-07-18 12:57:32.232049: I tensorflow/core/common_runtime/executor.cc:1197] [/device:CPU:0] (DEBUG INFO) Executor start aborting (this does not indicate an error and you can ignore this message): INVALID_ARGUMENT: You must feed a value for placeholder tensor 'Placeholder/_0' with dtype string and shape [17364]\n",
      "\t [[{{node Placeholder/_0}}]]\n"
     ]
    },
    {
     "name": "stdout",
     "output_type": "stream",
     "text": [
      "(128, 224, 224, 3)\n",
      "(128, 224, 224, 3)\n"
     ]
    },
    {
     "name": "stderr",
     "output_type": "stream",
     "text": [
      "2023-07-18 12:57:33.528639: W tensorflow/core/kernels/data/cache_dataset_ops.cc:856] The calling iterator did not fully read the dataset being cached. In order to avoid unexpected truncation of the dataset, the partially cached contents of the dataset  will be discarded. This can happen if you have an input pipeline similar to `dataset.cache().take(k).repeat()`. You should use `dataset.take(k).cache().repeat()` instead.\n"
     ]
    }
   ],
   "source": [
    "dataset = dataset.cache()\n",
    "\n",
    "for img_batch, img_batch_mirror in dataset:\n",
    "    print(img_batch.shape)\n",
    "    print(img_batch_mirror.shape)\n",
    "    break"
   ]
  },
  {
   "cell_type": "code",
   "execution_count": null,
   "id": "b334a9fe-8969-40f7-bb6c-a21c064e8543",
   "metadata": {},
   "outputs": [
    {
     "name": "stderr",
     "output_type": "stream",
     "text": [
      "2023-07-18 14:42:48.269843: I tensorflow/core/common_runtime/executor.cc:1197] [/device:CPU:0] (DEBUG INFO) Executor start aborting (this does not indicate an error and you can ignore this message): INVALID_ARGUMENT: You must feed a value for placeholder tensor 'Placeholder/_4' with dtype int32 and shape [17364]\n",
      "\t [[{{node Placeholder/_4}}]]\n",
      "2023-07-18 14:42:48.273849: I tensorflow/core/common_runtime/executor.cc:1197] [/device:CPU:0] (DEBUG INFO) Executor start aborting (this does not indicate an error and you can ignore this message): INVALID_ARGUMENT: You must feed a value for placeholder tensor 'Placeholder/_0' with dtype string and shape [17364]\n",
      "\t [[{{node Placeholder/_0}}]]\n",
      "2023-07-18 14:42:59.106230: I tensorflow/core/kernels/data/shuffle_dataset_op.cc:392] Filling up shuffle buffer (this may take a while): 144 of 1024\n",
      "2023-07-18 14:43:10.307347: I tensorflow/core/kernels/data/shuffle_dataset_op.cc:392] Filling up shuffle buffer (this may take a while): 263 of 1024\n",
      "2023-07-18 14:43:19.365809: I tensorflow/core/kernels/data/shuffle_dataset_op.cc:392] Filling up shuffle buffer (this may take a while): 410 of 1024\n",
      "2023-07-18 14:43:29.080750: I tensorflow/core/kernels/data/shuffle_dataset_op.cc:392] Filling up shuffle buffer (this may take a while): 596 of 1024\n",
      "2023-07-18 14:43:39.072236: I tensorflow/core/kernels/data/shuffle_dataset_op.cc:392] Filling up shuffle buffer (this may take a while): 742 of 1024\n",
      "2023-07-18 14:43:49.198832: I tensorflow/core/kernels/data/shuffle_dataset_op.cc:392] Filling up shuffle buffer (this may take a while): 882 of 1024\n",
      "2023-07-18 14:43:56.352909: I tensorflow/core/kernels/data/shuffle_dataset_op.cc:417] Shuffle buffer filled.\n",
      "2023-07-18 14:44:04.672939: I tensorflow/core/kernels/data/shuffle_dataset_op.cc:392] Filling up shuffle buffer (this may take a while): 1 of 17364\n",
      "2023-07-18 14:44:15.701207: I tensorflow/core/kernels/data/shuffle_dataset_op.cc:392] Filling up shuffle buffer (this may take a while): 2 of 17364\n",
      "2023-07-18 14:44:22.274660: I tensorflow/core/kernels/data/shuffle_dataset_op.cc:392] Filling up shuffle buffer (this may take a while): 3 of 17364\n",
      "2023-07-18 14:44:30.581510: I tensorflow/core/kernels/data/shuffle_dataset_op.cc:392] Filling up shuffle buffer (this may take a while): 4 of 17364\n",
      "2023-07-18 14:44:38.845751: I tensorflow/core/kernels/data/shuffle_dataset_op.cc:392] Filling up shuffle buffer (this may take a while): 5 of 17364\n",
      "2023-07-18 14:44:44.823373: I tensorflow/core/kernels/data/shuffle_dataset_op.cc:392] Filling up shuffle buffer (this may take a while): 6 of 17364\n",
      "2023-07-18 14:44:54.065852: I tensorflow/core/kernels/data/shuffle_dataset_op.cc:392] Filling up shuffle buffer (this may take a while): 7 of 17364\n",
      "2023-07-18 14:45:00.195172: I tensorflow/core/kernels/data/shuffle_dataset_op.cc:392] Filling up shuffle buffer (this may take a while): 8 of 17364\n",
      "2023-07-18 14:45:09.041524: I tensorflow/core/kernels/data/shuffle_dataset_op.cc:392] Filling up shuffle buffer (this may take a while): 9 of 17364\n",
      "2023-07-18 14:45:20.949687: I tensorflow/core/kernels/data/shuffle_dataset_op.cc:392] Filling up shuffle buffer (this may take a while): 10 of 17364\n",
      "2023-07-18 14:45:28.309516: I tensorflow/core/kernels/data/shuffle_dataset_op.cc:392] Filling up shuffle buffer (this may take a while): 11 of 17364\n",
      "2023-07-18 14:45:35.435385: I tensorflow/core/kernels/data/shuffle_dataset_op.cc:392] Filling up shuffle buffer (this may take a while): 12 of 17364\n"
     ]
    }
   ],
   "source": [
    "dataset = dataset.prefetch(AUTOTUNE)\n",
    "dataset"
   ]
  }
 ],
 "metadata": {
  "kernelspec": {
   "display_name": "local-venv",
   "language": "python",
   "name": "local-venv"
  },
  "language_info": {
   "codemirror_mode": {
    "name": "ipython",
    "version": 3
   },
   "file_extension": ".py",
   "mimetype": "text/x-python",
   "name": "python",
   "nbconvert_exporter": "python",
   "pygments_lexer": "ipython3",
   "version": "3.10.2"
  }
 },
 "nbformat": 4,
 "nbformat_minor": 5
}
